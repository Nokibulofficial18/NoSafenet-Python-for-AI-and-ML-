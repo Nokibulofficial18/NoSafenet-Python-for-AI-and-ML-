{
  "nbformat": 4,
  "nbformat_minor": 0,
  "metadata": {
    "colab": {
      "provenance": [],
      "include_colab_link": true
    },
    "kernelspec": {
      "name": "python3",
      "display_name": "Python 3"
    },
    "language_info": {
      "name": "python"
    }
  },
  "cells": [
    {
      "cell_type": "markdown",
      "metadata": {
        "id": "view-in-github",
        "colab_type": "text"
      },
      "source": [
        "<a href=\"https://colab.research.google.com/github/Nokibulofficial18/NoSafenet-Python-for-AI-and-ML-/blob/main/session_14_task.ipynb\" target=\"_parent\"><img src=\"https://colab.research.google.com/assets/colab-badge.svg\" alt=\"Open In Colab\"/></a>"
      ]
    },
    {
      "cell_type": "markdown",
      "source": [
        "###`Q-1:` Find the nearest element in the array to a given integer.\n",
        "```\n",
        "Ex:-\n",
        "a=23 and array - [10 17 24 31 38 45 52 59].\n",
        "Nearest element is 24\n",
        "```\n",
        "Hint: Read about this function `argmin()`"
      ],
      "metadata": {
        "id": "1uamk9vAix0o"
      }
    },
    {
      "cell_type": "code",
      "source": [
        "import numpy as np"
      ],
      "metadata": {
        "id": "2TW-YY9HA1h2"
      },
      "execution_count": 1,
      "outputs": []
    },
    {
      "cell_type": "code",
      "source": [
        "# code here\n",
        "def nearest_element(arr, target):\n",
        "    diff = np.abs(arr - target)\n",
        "    idx = np.argmin(diff)\n",
        "\n",
        "    return arr[idx]\n",
        "arr_str = input(\"Enter the array (with space): \")\n",
        "arr = np.array(arr_str.split(),dtype=int)\n",
        "n = int(input(\"Enter the number: \"))\n",
        "print(f\"Nearest element is {nearest_element(arr,n)}\")\n"
      ],
      "metadata": {
        "id": "ddkpbpR6iySZ",
        "outputId": "d977e8a6-53e6-4e99-8878-583013ee5d39",
        "colab": {
          "base_uri": "https://localhost:8080/"
        }
      },
      "execution_count": 5,
      "outputs": [
        {
          "output_type": "stream",
          "name": "stdout",
          "text": [
            "Enter the array (with space): 10 17 24 31 38 45 52 59\n",
            "Enter the number: 23\n",
            "Nearest element is 24\n"
          ]
        }
      ]
    },
    {
      "cell_type": "markdown",
      "source": [
        "###`Q-2:` Replace multiples of 3 or 5 as 0 in the given array.\n",
        "```\n",
        "arr=[1 2 3 4 5 6 7 9]\n",
        "\n",
        "result-> [1 2 0 4 0 0 7 0]\n",
        "```"
      ],
      "metadata": {
        "id": "Y1QkHyPpizyp"
      }
    },
    {
      "cell_type": "code",
      "source": [
        "# code here\n",
        "arr_str = input(\"Enter the array (with space): \")\n",
        "arr = np.array(arr_str.split(),dtype=int)\n",
        "arr[(arr%3==0) | (arr%5==0)]=0\n",
        "print(arr)"
      ],
      "metadata": {
        "id": "JjtxMlhWi25l",
        "outputId": "d33f8ddc-1671-4bce-f2dd-f9f2c7a0ef8e",
        "colab": {
          "base_uri": "https://localhost:8080/"
        }
      },
      "execution_count": 9,
      "outputs": [
        {
          "output_type": "stream",
          "name": "stdout",
          "text": [
            "Enter the array (with space): 1 2 3 4 5 6 7 9\n",
            "[1 2 0 4 0 0 7 0]\n"
          ]
        }
      ]
    },
    {
      "cell_type": "markdown",
      "source": [
        "###`Q-3:` Use Fancy Indexing.\n",
        "1. Double the array elements at  given indexes\n",
        "```\n",
        "arr = np.arrange(10)\n",
        "indexes = [0,3,4,9]\n",
        "```\n",
        "Result -> `[ 0  1  2  6  8  5  6  7  8 18]`\n",
        "\n",
        "2. Using a given array make a different array as in below example\n",
        "```\n",
        "array = [1,2,3]\n",
        "result array -> [1 1 1 2 2 2 3 3 3]\n",
        "```\n",
        "* Internal-repetion should be as length of the array.\n",
        "\n",
        "Hint:\n",
        "```\n",
        "if a is an array\n",
        "a = [2,4]\n",
        "a[[1,1,0,1]] will result in-> [4 4 2 4]\n",
        "```"
      ],
      "metadata": {
        "id": "Pi_dZSwTi4OI"
      }
    },
    {
      "cell_type": "code",
      "source": [
        "# code here\n",
        "arr_str = input(\"Enter the array (with space): \")\n",
        "arr = np.array(arr_str.split(),dtype=int)\n",
        "idx_str = input(\"Enter the list of index: \")\n",
        "idxs = [int (x) for x in idx_str.split()]\n",
        "arr[idxs] = arr[idxs]*2\n",
        "arr"
      ],
      "metadata": {
        "id": "SHYuyuovi66N",
        "outputId": "4e4dd563-ce79-4404-b4a5-d139c13b672f",
        "colab": {
          "base_uri": "https://localhost:8080/"
        }
      },
      "execution_count": 12,
      "outputs": [
        {
          "name": "stdout",
          "output_type": "stream",
          "text": [
            "Enter the array (with space): 0 1 2 3 4 5 6 7 8 9\n",
            "Enter the list of index: 0 3 4 9\n"
          ]
        },
        {
          "output_type": "execute_result",
          "data": {
            "text/plain": [
              "array([ 0,  1,  2,  6,  8,  5,  6,  7,  8, 18])"
            ]
          },
          "metadata": {},
          "execution_count": 12
        }
      ]
    },
    {
      "cell_type": "code",
      "source": [
        "arr_str = input(\"Enter the array (with space): \")\n",
        "arr = np.array(arr_str.split(),dtype=int)\n",
        "arr = np.repeat(arr,3)\n",
        "arr"
      ],
      "metadata": {
        "id": "7vbQO7avIaS7",
        "outputId": "e7c3b195-29fe-4aa9-e0cc-5329469ae02d",
        "colab": {
          "base_uri": "https://localhost:8080/"
        }
      },
      "execution_count": 16,
      "outputs": [
        {
          "name": "stdout",
          "output_type": "stream",
          "text": [
            "Enter the array (with space): 1 2 3\n"
          ]
        },
        {
          "output_type": "execute_result",
          "data": {
            "text/plain": [
              "array([1, 1, 1, 2, 2, 2, 3, 3, 3])"
            ]
          },
          "metadata": {},
          "execution_count": 16
        }
      ]
    },
    {
      "cell_type": "markdown",
      "source": [
        "###`Q-4:` Your are given an array which is havig some nan value. You job is to fill those nan values with most common element in the array.\n",
        "```\n",
        "arr=np.array([[1,2,np.nan],[4,2,6],[np.nan,np.nan,5]])\n",
        "\n",
        "```"
      ],
      "metadata": {
        "id": "UDehG0tFi89i"
      }
    },
    {
      "cell_type": "code",
      "source": [
        "# code here\n",
        "arr=np.array([[1,2,np.nan],[4,2,6],[np.nan,np.nan,5]])\n",
        "values, counts = np.unique(arr, return_counts=True)\n",
        "flat = arr[~np.isnan(arr)]\n",
        "\n",
        "unq, cnt = np.unique(flat,return_counts=True)\n",
        "\n",
        "most_common = unq[np.argmax(cnt)]\n",
        "\n",
        "arr[np.isnan(arr)] = most_common\n",
        "\n",
        "arr = arr.astype(int)\n",
        "arr"
      ],
      "metadata": {
        "id": "YH13A6w9jEyu",
        "outputId": "f1dc50fe-7ce4-4c1a-be37-f579c1c6700c",
        "colab": {
          "base_uri": "https://localhost:8080/"
        }
      },
      "execution_count": 21,
      "outputs": [
        {
          "output_type": "execute_result",
          "data": {
            "text/plain": [
              "array([[1, 2, 2],\n",
              "       [4, 2, 6],\n",
              "       [2, 2, 5]])"
            ]
          },
          "metadata": {},
          "execution_count": 21
        }
      ]
    },
    {
      "cell_type": "markdown",
      "source": [
        "### `Q-5:` Write a NumPy program\n",
        "\n",
        "- to find the missing data in a given array. Return a boolean matrix.\n",
        "- also try to fill those missing values with 0. For that, you can use `np.nan_to_num(a)`\n",
        "\n",
        "```python\n",
        "import numpy as np\n",
        "\n",
        "np.array([[3, 2, np.nan, 1],\n",
        "          [10, 12, 10, 9],\n",
        "          [5, np.nan, 1, np.nan]])\n",
        "```"
      ],
      "metadata": {
        "id": "Tk2JnioUjJ_t"
      }
    },
    {
      "cell_type": "code",
      "source": [
        "# code here\n",
        "import numpy as np\n",
        "\n",
        "arr =np.array([[3, 2, np.nan, 1],\n",
        "          [10, 12, 10, 9],\n",
        "          [5, np.nan, 1, np.nan]])\n",
        "\n",
        "result = np.isnan(arr)\n",
        "result\n",
        "arr[np.isnan(arr)] = 0\n",
        "arr = arr.astype(int)\n",
        "arr"
      ],
      "metadata": {
        "id": "nPEBTQJ_jJZe",
        "outputId": "feaf44b8-0e19-4958-f7e8-907016d940d2",
        "colab": {
          "base_uri": "https://localhost:8080/"
        }
      },
      "execution_count": 25,
      "outputs": [
        {
          "output_type": "execute_result",
          "data": {
            "text/plain": [
              "array([[ 3,  2,  0,  1],\n",
              "       [10, 12, 10,  9],\n",
              "       [ 5,  0,  1,  0]])"
            ]
          },
          "metadata": {},
          "execution_count": 25
        }
      ]
    },
    {
      "cell_type": "markdown",
      "source": [
        "###`Q-6:` Given two arrays, X and Y, construct the Cauchy matrix C.\n",
        "`Cij =1/(xi - yj)`\n",
        "\n",
        "http://en.wikipedia.org/wiki/Cauchy_matrix\n",
        "```\n",
        "x = numpy.array([1,2,3,4]).reshape((-1, 1)\n",
        "y = numpy.array([5,6,7])\n",
        "```"
      ],
      "metadata": {
        "id": "FFUnZtG7jNBH"
      }
    },
    {
      "cell_type": "code",
      "source": [
        "# code here\n",
        "x = np.array([1,2,3,4]).reshape((-1, 1))\n",
        "y = np.array([5,6,7])\n",
        "\n",
        "c = 1/(x-y)\n",
        "c"
      ],
      "metadata": {
        "id": "pQXHa38TjVEh",
        "outputId": "bd6452f3-bc51-4cac-edee-85981131e32b",
        "colab": {
          "base_uri": "https://localhost:8080/"
        }
      },
      "execution_count": 30,
      "outputs": [
        {
          "output_type": "execute_result",
          "data": {
            "text/plain": [
              "array([[-0.25      , -0.2       , -0.16666667],\n",
              "       [-0.33333333, -0.25      , -0.2       ],\n",
              "       [-0.5       , -0.33333333, -0.25      ],\n",
              "       [-1.        , -0.5       , -0.33333333]])"
            ]
          },
          "metadata": {},
          "execution_count": 30
        }
      ]
    },
    {
      "cell_type": "markdown",
      "source": [
        "###`Q-7:` Plot this below equation.\n",
        "\n",
        "$$\\large y = \\frac{e^x - e^{-x}}{e^x + e^{-x}}$$\n",
        "\n",
        "**Note: This equation is called tanh activation function. In deep learning, many times this function is used. If you find some difference between the sigmoid function and this tanh function, note that to your notebook.**"
      ],
      "metadata": {
        "id": "EbkHZCF1jWNc"
      }
    },
    {
      "cell_type": "code",
      "source": [
        "# code here\n",
        "x = np.random.randint(-10, 11, size=100)\n",
        "y = ((np.exp(x) - np.exp(-(x)))/(np.exp(x) + np.exp(-(x))))\n",
        "import matplotlib.pyplot as plt\n",
        "plt.plot(x,y, 'o', label = 'tanh values')\n",
        "plt.xlabel('x values')\n",
        "plt.ylabel('tan(x)')\n",
        "plt.title('Plot of tanh using numpy')\n",
        "plt.legend()\n",
        "plt.show()\n"
      ],
      "metadata": {
        "id": "n6OcN--FjbLC",
        "outputId": "893b621c-aa14-4414-e31e-398f0f09c55e",
        "colab": {
          "base_uri": "https://localhost:8080/",
          "height": 472
        }
      },
      "execution_count": 36,
      "outputs": [
        {
          "output_type": "display_data",
          "data": {
            "text/plain": [
              "<Figure size 640x480 with 1 Axes>"
            ],
            "image/png": "[encoded data removed]"
          },
          "metadata": {}
        }
      ]
    },
    {
      "cell_type": "markdown",
      "source": [
        "### `Q-8:` Plot the below equation.\n",
        "\n",
        "$$\\large y = \\sqrt{36 - (x - 4)^2} + 2$$\n",
        "\n",
        "The range of x should be between -2 to 10. $x ∈ [-2, 10]$\n",
        "\n"
      ],
      "metadata": {
        "id": "xujS-pu4jciH"
      }
    },
    {
      "cell_type": "code",
      "source": [
        "# code here\n",
        "x = np.random.randint(-2, 11, size=100)\n",
        "y = (np.sqrt(36-((x-4)**2)))+2\n",
        "import matplotlib.pyplot as plt\n",
        "plt.plot(x,y, 'o', label = 'tanh values')\n",
        "\n",
        "plt.show()"
      ],
      "metadata": {
        "id": "7CagwKP_jhIQ",
        "outputId": "7425776a-fc8a-450a-c4fe-fe78179132ea",
        "colab": {
          "base_uri": "https://localhost:8080/",
          "height": 430
        }
      },
      "execution_count": 37,
      "outputs": [
        {
          "output_type": "display_data",
          "data": {
            "text/plain": [
              "<Figure size 640x480 with 1 Axes>"
            ],
            "image/png": "[encoded data removed]"
          },
          "metadata": {}
        }
      ]
    },
    {
      "cell_type": "markdown",
      "source": [
        "### `Q-9:` Write a program implement Boradcasting Rule to check if two array can be added or not.\n",
        "Given tuples of shapes.\n",
        "```\n",
        "shape of a- (3,2,2)\n",
        "shape of b- (2,2)\n",
        "\n",
        "check_broadcast(a, b) -> return Boolean (True if can broadcasted, False other wise.)\n",
        "```"
      ],
      "metadata": {
        "id": "Jf14pxCfjiX1"
      }
    },
    {
      "cell_type": "code",
      "source": [
        "# code here\n",
        "def check_broadcast(shape_a, shape_b):\n",
        "\n",
        "    rev_a = shape_a[::-1]\n",
        "    rev_b = shape_b[::-1]\n",
        "\n",
        "    for i in range(max(len(rev_a), len(rev_b))):\n",
        "        dim_a = rev_a[i] if i < len(rev_a) else 1\n",
        "        dim_b = rev_b[i] if i < len(rev_b) else 1\n",
        "\n",
        "        if dim_a != dim_b and dim_a != 1 and dim_b != 1:\n",
        "            return False\n",
        "    return True\n",
        "\n",
        "# Example usage:\n",
        "a_shape = (3, 2, 2)\n",
        "b_shape = (2, 2)\n",
        "\n",
        "print(check_broadcast(a_shape, b_shape))  # Output: True\n"
      ],
      "metadata": {
        "id": "qSKGG0Yajlc8",
        "outputId": "08db73dc-4dc7-4412-85ef-e71cbf13b339",
        "colab": {
          "base_uri": "https://localhost:8080/"
        }
      },
      "execution_count": 38,
      "outputs": [
        {
          "output_type": "stream",
          "name": "stdout",
          "text": [
            "True\n"
          ]
        }
      ]
    },
    {
      "cell_type": "code",
      "source": [],
      "metadata": {
        "id": "nNaj0N5CR9X-"
      },
      "execution_count": null,
      "outputs": []
    }
  ]
}