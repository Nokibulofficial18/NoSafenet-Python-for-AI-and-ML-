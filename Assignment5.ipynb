{
  "nbformat": 4,
  "nbformat_minor": 0,
  "metadata": {
    "colab": {
      "provenance": [],
      "authorship_tag": "ABX9TyOWcilhRlxZcN/Pvqcdii1z",
      "include_colab_link": true
    },
    "kernelspec": {
      "name": "python3",
      "display_name": "Python 3"
    },
    "language_info": {
      "name": "python"
    }
  },
  "cells": [
    {
      "cell_type": "markdown",
      "metadata": {
        "id": "view-in-github",
        "colab_type": "text"
      },
      "source": [
        "<a href=\"https://colab.research.google.com/github/Nokibulofficial18/NoSafenet-Python-for-AI-and-ML-/blob/main/Assignment5.ipynb\" target=\"_parent\"><img src=\"https://colab.research.google.com/assets/colab-badge.svg\" alt=\"Open In Colab\"/></a>"
      ]
    },
    {
      "cell_type": "code",
      "execution_count": 1,
      "metadata": {
        "colab": {
          "base_uri": "https://localhost:8080/"
        },
        "id": "6yHhb-RuP43g",
        "outputId": "d3d6f180-af25-4c2d-c853-f2b23828da56"
      },
      "outputs": [
        {
          "output_type": "stream",
          "name": "stdout",
          "text": [
            "[1, 2, 3, 4, 5]\n"
          ]
        }
      ],
      "source": [
        "my_list = [1,2,3,4,5]\n",
        "print(my_list)"
      ]
    },
    {
      "cell_type": "code",
      "source": [
        "my_list = [1,4.5,\"Hello\",True]\n",
        "print(type(my_list))"
      ],
      "metadata": {
        "colab": {
          "base_uri": "https://localhost:8080/"
        },
        "id": "aBXzMXQbUYQ_",
        "outputId": "d0233745-ab8c-4384-c82a-682db7ae4726"
      },
      "execution_count": 2,
      "outputs": [
        {
          "output_type": "stream",
          "name": "stdout",
          "text": [
            "<class 'list'>\n"
          ]
        }
      ]
    },
    {
      "cell_type": "code",
      "source": [
        "my_list = [1,2,3,8,7]\n",
        "print(\"Before changing: \",my_list)\n",
        "my_list[3]=4\n",
        "print(\"After changing: \",my_list)"
      ],
      "metadata": {
        "colab": {
          "base_uri": "https://localhost:8080/"
        },
        "id": "emxIKX1cUj7-",
        "outputId": "a3a556eb-9644-48fd-cf3a-ae8ecc48cb37"
      },
      "execution_count": 3,
      "outputs": [
        {
          "output_type": "stream",
          "name": "stdout",
          "text": [
            "Before changing:  [1, 2, 3, 8, 7]\n",
            "After changing:  [1, 2, 3, 4, 7]\n"
          ]
        }
      ]
    },
    {
      "cell_type": "code",
      "source": [
        "my_list = []\n",
        "my_list.append(\"Banana\")\n",
        "my_list.append(\"Apple\")\n",
        "my_list.append(\"Orange\")\n",
        "print(my_list)"
      ],
      "metadata": {
        "colab": {
          "base_uri": "https://localhost:8080/"
        },
        "id": "PrgdzLiXU17m",
        "outputId": "ce6028bb-9f5d-441b-e324-c8da5d8c57ed"
      },
      "execution_count": 4,
      "outputs": [
        {
          "output_type": "stream",
          "name": "stdout",
          "text": [
            "['Banana', 'Apple', 'Orange']\n"
          ]
        }
      ]
    },
    {
      "cell_type": "code",
      "source": [
        "s = \"My name is nokibul\"\n",
        "string_list = list(s)\n",
        "print(string_list)"
      ],
      "metadata": {
        "colab": {
          "base_uri": "https://localhost:8080/"
        },
        "id": "ubED2cGZVE-t",
        "outputId": "2047f057-7d9d-4ab7-8422-9e15d3d3ee3f"
      },
      "execution_count": 5,
      "outputs": [
        {
          "output_type": "stream",
          "name": "stdout",
          "text": [
            "['M', 'y', ' ', 'n', 'a', 'm', 'e', ' ', 'i', 's', ' ', 'n', 'o', 'k', 'i', 'b', 'u', 'l']\n"
          ]
        }
      ]
    },
    {
      "cell_type": "code",
      "source": [
        "my_list = [1,2,3,8,7]\n",
        "print(my_list[0])\n",
        "print(my_list[len(my_list)//2])\n",
        "print(my_list[len(my_list)-1])"
      ],
      "metadata": {
        "colab": {
          "base_uri": "https://localhost:8080/"
        },
        "id": "D1JJVd8PVPsB",
        "outputId": "e224d0e7-5dfb-45ee-c1ea-a822afb9189f"
      },
      "execution_count": 6,
      "outputs": [
        {
          "output_type": "stream",
          "name": "stdout",
          "text": [
            "1\n",
            "3\n",
            "7\n"
          ]
        }
      ]
    },
    {
      "cell_type": "code",
      "source": [
        "my_list = [1,2,3,8,7]\n",
        "print(my_list[:3])"
      ],
      "metadata": {
        "colab": {
          "base_uri": "https://localhost:8080/"
        },
        "id": "ciSvFfwjVuz1",
        "outputId": "1f6c11df-3e75-41a1-9e3a-1e6d80dbac6e"
      },
      "execution_count": 7,
      "outputs": [
        {
          "output_type": "stream",
          "name": "stdout",
          "text": [
            "[1, 2, 3]\n"
          ]
        }
      ]
    },
    {
      "cell_type": "code",
      "source": [
        "my_list = [1,2,3,8,7, 9, 10, 24, 35,36]\n",
        "print(my_list[1::2])\n"
      ],
      "metadata": {
        "colab": {
          "base_uri": "https://localhost:8080/"
        },
        "id": "LeHIPmEtV7XY",
        "outputId": "21aaaf19-6fa9-4ec1-822e-c079afbc879b"
      },
      "execution_count": 9,
      "outputs": [
        {
          "output_type": "stream",
          "name": "stdout",
          "text": [
            "[2, 8, 9, 24, 36]\n"
          ]
        }
      ]
    },
    {
      "cell_type": "code",
      "source": [
        "my_list = [1,2,3,8,7, 9, 10, 24, 35,36]\n",
        "reverse_list = my_list[::-1]\n",
        "print(my_list)\n",
        "print(reverse_list)"
      ],
      "metadata": {
        "colab": {
          "base_uri": "https://localhost:8080/"
        },
        "id": "9wt5w8w8WEHj",
        "outputId": "70d4dcae-10b4-4898-a1d7-7620f8512029"
      },
      "execution_count": 10,
      "outputs": [
        {
          "output_type": "stream",
          "name": "stdout",
          "text": [
            "[1, 2, 3, 8, 7, 9, 10, 24, 35, 36]\n",
            "[36, 35, 24, 10, 9, 7, 8, 3, 2, 1]\n"
          ]
        }
      ]
    },
    {
      "cell_type": "code",
      "source": [
        "my_list = [1,2,3,8,7, 9, 10, 24, 35,36]\n",
        "print(my_list[2:6])"
      ],
      "metadata": {
        "colab": {
          "base_uri": "https://localhost:8080/"
        },
        "id": "3GE_VXhjWSoU",
        "outputId": "b331514c-2541-4c6c-da31-d509937480f5"
      },
      "execution_count": 11,
      "outputs": [
        {
          "output_type": "stream",
          "name": "stdout",
          "text": [
            "[3, 8, 7, 9]\n"
          ]
        }
      ]
    },
    {
      "cell_type": "code",
      "source": [
        "my_list = [1,2,3,8,7, 9, 10, 24, 35,36]\n",
        "my_list.append(34)\n",
        "print(my_list)"
      ],
      "metadata": {
        "colab": {
          "base_uri": "https://localhost:8080/"
        },
        "id": "oIQvH6exWa1M",
        "outputId": "abb8aa3e-8af3-4378-cec8-f1709076a47b"
      },
      "execution_count": 12,
      "outputs": [
        {
          "output_type": "stream",
          "name": "stdout",
          "text": [
            "[1, 2, 3, 8, 7, 9, 10, 24, 35, 36, 34]\n"
          ]
        }
      ]
    },
    {
      "cell_type": "code",
      "source": [
        "my_list = [1,2,3,8,7, 9, 10, 24, 35,36]\n",
        "my_list.extend([34,56,78,90])\n",
        "print(my_list)"
      ],
      "metadata": {
        "colab": {
          "base_uri": "https://localhost:8080/"
        },
        "id": "JKOjeVm7WjYs",
        "outputId": "b7d92d88-010c-49bb-d23e-bd0ba752cbea"
      },
      "execution_count": 14,
      "outputs": [
        {
          "output_type": "stream",
          "name": "stdout",
          "text": [
            "[1, 2, 3, 8, 7, 9, 10, 24, 35, 36, 34, 56, 78, 90]\n"
          ]
        }
      ]
    },
    {
      "cell_type": "code",
      "source": [
        "my_list = [1,2,3,8,7, 9, 10, 24, 35,36]\n",
        "my_list.insert(1,5)\n",
        "print(my_list)"
      ],
      "metadata": {
        "colab": {
          "base_uri": "https://localhost:8080/"
        },
        "id": "xT9O68FHWrqQ",
        "outputId": "0ca7c24b-034a-4f3b-b087-7b2ab9be6a2e"
      },
      "execution_count": 15,
      "outputs": [
        {
          "output_type": "stream",
          "name": "stdout",
          "text": [
            "[1, 5, 2, 3, 8, 7, 9, 10, 24, 35, 36]\n"
          ]
        }
      ]
    },
    {
      "cell_type": "code",
      "source": [
        "list1 = [1, 2, 3]\n",
        "list2 = [4, 5]\n",
        "list1.append(list2)\n",
        "print(list1)\n",
        "\n"
      ],
      "metadata": {
        "colab": {
          "base_uri": "https://localhost:8080/"
        },
        "id": "Wmfb9bJGXjom",
        "outputId": "97719b3d-2282-4282-9d73-97f4f6ad8422"
      },
      "execution_count": 19,
      "outputs": [
        {
          "output_type": "stream",
          "name": "stdout",
          "text": [
            "[1, 2, 3, [4, 5]]\n"
          ]
        }
      ]
    },
    {
      "cell_type": "markdown",
      "source": [
        "append function add the entire 2nd list as a single element where as extend adds each element single\n"
      ],
      "metadata": {
        "id": "9kNBrIrjYPeg"
      }
    },
    {
      "cell_type": "code",
      "source": [
        "n = int(input(\"what is the size of the list\"))\n",
        "my_list = []\n",
        "for i in range(n):\n",
        "  x = int(input(f\"Enter {i+1}th element: \"))\n",
        "  my_list.append(x)\n",
        "print(my_list)"
      ],
      "metadata": {
        "colab": {
          "base_uri": "https://localhost:8080/"
        },
        "id": "BBjQj4kxXHi7",
        "outputId": "6a9caf29-dfaf-4ac6-f7f9-df53aa88a12e"
      },
      "execution_count": 18,
      "outputs": [
        {
          "output_type": "stream",
          "name": "stdout",
          "text": [
            "what is the size of the list2\n",
            "Enter 1th element: 1\n",
            "Enter 2th element: 2\n",
            "[1, 2]\n"
          ]
        }
      ]
    },
    {
      "cell_type": "code",
      "source": [
        "my_list = [1,2,3,8,7, 9, 10, 24, 35,36]\n",
        "my_list[1] = 5\n",
        "print(my_list)\n"
      ],
      "metadata": {
        "colab": {
          "base_uri": "https://localhost:8080/"
        },
        "id": "GtKV6jE9XiTE",
        "outputId": "1ff68fb0-f709-4fd5-fadd-95b87d86e2de"
      },
      "execution_count": 20,
      "outputs": [
        {
          "output_type": "stream",
          "name": "stdout",
          "text": [
            "[1, 5, 3, 8, 7, 9, 10, 24, 35, 36]\n"
          ]
        }
      ]
    },
    {
      "cell_type": "code",
      "source": [
        "my_list = [1,2,3,8,7, 9, 10, 24, 35,36]\n",
        "del(my_list[2])\n",
        "print(my_list)"
      ],
      "metadata": {
        "colab": {
          "base_uri": "https://localhost:8080/"
        },
        "id": "IlRozFbKYmpX",
        "outputId": "f52becc4-a845-4e2d-a777-7e5ad0a88ae9"
      },
      "execution_count": 22,
      "outputs": [
        {
          "output_type": "stream",
          "name": "stdout",
          "text": [
            "[1, 2, 8, 7, 9, 10, 24, 35, 36]\n"
          ]
        }
      ]
    },
    {
      "cell_type": "code",
      "source": [
        "my_list = [1,2,3,8,7, 9, 10, 24, 35,36]\n",
        "my_list.pop()\n",
        "print(my_list)"
      ],
      "metadata": {
        "colab": {
          "base_uri": "https://localhost:8080/"
        },
        "id": "iM7VN1aVYr1S",
        "outputId": "220262cb-9ab7-479c-c2f5-6bc353d1b420"
      },
      "execution_count": 23,
      "outputs": [
        {
          "output_type": "stream",
          "name": "stdout",
          "text": [
            "[1, 2, 3, 8, 7, 9, 10, 24, 35]\n"
          ]
        }
      ]
    },
    {
      "cell_type": "code",
      "source": [
        "my_list = [1,2,3,8,7, 9, 10, 24, 35,36]\n",
        "my_list.remove(10)\n",
        "print(my_list)"
      ],
      "metadata": {
        "colab": {
          "base_uri": "https://localhost:8080/"
        },
        "id": "afWn8SSyYz5k",
        "outputId": "d9a59991-b0df-4c50-dead-b23663676a70"
      },
      "execution_count": 24,
      "outputs": [
        {
          "output_type": "stream",
          "name": "stdout",
          "text": [
            "[1, 2, 3, 8, 7, 9, 24, 35, 36]\n"
          ]
        }
      ]
    },
    {
      "cell_type": "code",
      "source": [
        "my_list = [1,2,3,8,7, 9, 10, 24, 35,36]\n",
        "my_list.clear()\n",
        "print(my_list)"
      ],
      "metadata": {
        "colab": {
          "base_uri": "https://localhost:8080/"
        },
        "id": "LBy8SlaHZCRc",
        "outputId": "48d8d15a-b8db-43b4-93e6-d3148867405e"
      },
      "execution_count": 25,
      "outputs": [
        {
          "output_type": "stream",
          "name": "stdout",
          "text": [
            "[]\n"
          ]
        }
      ]
    },
    {
      "cell_type": "code",
      "source": [
        "my_list = [1,2,3,8,7, 9, 10, 24, 35,36]\n",
        "print(f\"there are {len(my_list)} items in the list\")"
      ],
      "metadata": {
        "colab": {
          "base_uri": "https://localhost:8080/"
        },
        "id": "NV-qQt5VZH5c",
        "outputId": "cc61d36f-bb40-4d6f-913c-ded0a2b1d51c"
      },
      "execution_count": 26,
      "outputs": [
        {
          "output_type": "stream",
          "name": "stdout",
          "text": [
            "there are 10 items in the list\n"
          ]
        }
      ]
    },
    {
      "cell_type": "code",
      "source": [
        "my_list = [1,2,3,8,7, 9, 10, 24, 35,36]\n",
        "maximum = max(my_list)\n",
        "minimum = min(my_list)\n",
        "print(f\"The maximum in the list is {maximum} and the minimum is {minimum}\")"
      ],
      "metadata": {
        "colab": {
          "base_uri": "https://localhost:8080/"
        },
        "id": "H17p0-8vZPoh",
        "outputId": "2d71118b-9f97-4f8b-b370-bd00de693f95"
      },
      "execution_count": 27,
      "outputs": [
        {
          "output_type": "stream",
          "name": "stdout",
          "text": [
            "The maximum in the list is 36 and the minimum is 1\n"
          ]
        }
      ]
    },
    {
      "cell_type": "code",
      "source": [
        "my_list = [1,2,3,8,7, 9, 10, 24, 35,36]\n",
        "ascending_list  = sorted(my_list)\n",
        "descending_list = sorted(my_list, reverse=True)\n",
        "print(my_list)\n",
        "print(ascending_list)\n",
        "print(descending_list)"
      ],
      "metadata": {
        "colab": {
          "base_uri": "https://localhost:8080/"
        },
        "id": "A0SKGMwzZdgt",
        "outputId": "615486ce-164c-445f-84fb-fb3077f7ff56"
      },
      "execution_count": 28,
      "outputs": [
        {
          "output_type": "stream",
          "name": "stdout",
          "text": [
            "[1, 2, 3, 8, 7, 9, 10, 24, 35, 36]\n",
            "[1, 2, 3, 7, 8, 9, 10, 24, 35, 36]\n",
            "[36, 35, 24, 10, 9, 8, 7, 3, 2, 1]\n"
          ]
        }
      ]
    },
    {
      "cell_type": "code",
      "source": [
        "my_list = [1,2,3,8,7, 9, 10, 24, 3,3]\n",
        "cnt = my_list.count(3)\n",
        "print(f\"Count of 3 is {cnt} in the list\")"
      ],
      "metadata": {
        "colab": {
          "base_uri": "https://localhost:8080/"
        },
        "id": "DSBzqCU9Z59k",
        "outputId": "fd09ee21-154e-4ff6-b2cb-3e2a6cc3aeb3"
      },
      "execution_count": 29,
      "outputs": [
        {
          "output_type": "stream",
          "name": "stdout",
          "text": [
            "Count of 3 is 3 in the list\n"
          ]
        }
      ]
    },
    {
      "cell_type": "code",
      "source": [
        "my_list = [1,2,3,8,7, 9, 10, 24, 35,36]\n",
        "pos = my_list.index(9)\n",
        "print(f\"9 is at {pos} index\")"
      ],
      "metadata": {
        "colab": {
          "base_uri": "https://localhost:8080/"
        },
        "id": "u3ivbbIMaIGS",
        "outputId": "d4e3032b-caa0-4c2e-f5dd-05a7f3a487f7"
      },
      "execution_count": 30,
      "outputs": [
        {
          "output_type": "stream",
          "name": "stdout",
          "text": [
            "9 is at 5 index\n"
          ]
        }
      ]
    },
    {
      "cell_type": "code",
      "source": [
        "my_list = [1,2,3,8,7, 9, 10, 24, 35,36]\n",
        "for element in my_list:\n",
        "  print(element,end=\" \")"
      ],
      "metadata": {
        "colab": {
          "base_uri": "https://localhost:8080/"
        },
        "id": "pdo1zvKtaSS6",
        "outputId": "8f07ffb2-1e80-48c7-9c90-5fc7f433a44b"
      },
      "execution_count": 31,
      "outputs": [
        {
          "output_type": "stream",
          "name": "stdout",
          "text": [
            "1 2 3 8 7 9 10 24 35 36 "
          ]
        }
      ]
    },
    {
      "cell_type": "code",
      "source": [
        "sqr_list = [x**2 for x in range(1,11)]\n",
        "print(sqr_list)"
      ],
      "metadata": {
        "colab": {
          "base_uri": "https://localhost:8080/"
        },
        "id": "U5qDfP3caZnl",
        "outputId": "dd3c65bd-786d-4dcb-afbc-c58c80c57ba7"
      },
      "execution_count": 32,
      "outputs": [
        {
          "output_type": "stream",
          "name": "stdout",
          "text": [
            "[1, 4, 9, 16, 25, 36, 49, 64, 81, 100]\n"
          ]
        }
      ]
    },
    {
      "cell_type": "code",
      "source": [
        "my_list = [1,2,3,8,7, 9, 10, 24, 35,36]\n",
        "even_list = [x for x in my_list if x%2==0]\n",
        "print(even_list)"
      ],
      "metadata": {
        "colab": {
          "base_uri": "https://localhost:8080/"
        },
        "id": "Hl9tkQDGalqt",
        "outputId": "4a7706e0-e552-426d-e55b-b4148877f2a0"
      },
      "execution_count": 33,
      "outputs": [
        {
          "output_type": "stream",
          "name": "stdout",
          "text": [
            "[2, 8, 10, 24, 36]\n"
          ]
        }
      ]
    },
    {
      "cell_type": "code",
      "source": [
        "two_list = [[1,2],[34,43],[32,56]]\n",
        "flatten_list = [x for row in two_list for x in row]\n",
        "print(flatten_list)"
      ],
      "metadata": {
        "colab": {
          "base_uri": "https://localhost:8080/"
        },
        "id": "L2KOzWJzawwj",
        "outputId": "5e864690-adc2-407f-a94d-aeb7564fbd40"
      },
      "execution_count": 34,
      "outputs": [
        {
          "output_type": "stream",
          "name": "stdout",
          "text": [
            "[1, 2, 34, 43, 32, 56]\n"
          ]
        }
      ]
    },
    {
      "cell_type": "code",
      "source": [],
      "metadata": {
        "id": "_dtqR1pYbEMW"
      },
      "execution_count": null,
      "outputs": []
    }
  ]
}