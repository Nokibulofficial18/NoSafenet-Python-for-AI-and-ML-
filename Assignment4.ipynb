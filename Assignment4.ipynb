{
  "nbformat": 4,
  "nbformat_minor": 0,
  "metadata": {
    "colab": {
      "provenance": [],
      "authorship_tag": "ABX9TyPJBnk/ovORZShbH1f1ia/j",
      "include_colab_link": true
    },
    "kernelspec": {
      "name": "python3",
      "display_name": "Python 3"
    },
    "language_info": {
      "name": "python"
    }
  },
  "cells": [
    {
      "cell_type": "markdown",
      "metadata": {
        "id": "view-in-github",
        "colab_type": "text"
      },
      "source": [
        "<a href=\"https://colab.research.google.com/github/Nokibulofficial18/NoSafenet-Python-for-AI-and-ML-/blob/main/Assignment4.ipynb\" target=\"_parent\"><img src=\"https://colab.research.google.com/assets/colab-badge.svg\" alt=\"Open In Colab\"/></a>"
      ]
    },
    {
      "cell_type": "code",
      "execution_count": null,
      "metadata": {
        "colab": {
          "base_uri": "https://localhost:8080/",
          "height": 36
        },
        "id": "ZUnWG-2MXbig",
        "outputId": "bd12c47d-e46b-4ae3-e607-7cec033dc75a"
      },
      "outputs": [
        {
          "output_type": "execute_result",
          "data": {
            "text/plain": [
              "'\\nhello.upper() returns a string where each and every character of the string will be \\nchanged into uppercase.\\n'"
            ],
            "application/vnd.google.colaboratory.intrinsic+json": {
              "type": "string"
            }
          },
          "metadata": {},
          "execution_count": 1
        }
      ],
      "source": [
        "\"\"\"\n",
        "hello.upper() returns a string where each and every character of the string will be\n",
        "changed into uppercase.\n",
        "\"\"\""
      ]
    },
    {
      "cell_type": "code",
      "source": [
        "\"\"\"\n",
        "str.strip() method is used to leading and trailing whitespace from a string\n",
        "\"\"\""
      ],
      "metadata": {
        "colab": {
          "base_uri": "https://localhost:8080/",
          "height": 36
        },
        "id": "S3q1dXhtdL5A",
        "outputId": "93c23bb6-2ec7-492f-9504-ce8d0b6828c8"
      },
      "execution_count": null,
      "outputs": [
        {
          "output_type": "execute_result",
          "data": {
            "text/plain": [
              "'\\nstr.strip() method is used to leading and trailing whitespace from a string\\n'"
            ],
            "application/vnd.google.colaboratory.intrinsic+json": {
              "type": "string"
            }
          },
          "metadata": {},
          "execution_count": 2
        }
      ]
    },
    {
      "cell_type": "code",
      "source": [
        "s = \"banana\"\n",
        "x=s.replace(\"a\",\"@\")\n",
        "print(\"String after replacing: \",x)"
      ],
      "metadata": {
        "colab": {
          "base_uri": "https://localhost:8080/"
        },
        "id": "nU8GTPCWd5Df",
        "outputId": "a53dc7c3-900f-4cb4-e3cf-46f32239dc3e"
      },
      "execution_count": null,
      "outputs": [
        {
          "output_type": "stream",
          "name": "stdout",
          "text": [
            "String after replacing:  b@n@n@\n"
          ]
        }
      ]
    },
    {
      "cell_type": "code",
      "source": [
        "s = \"HELLO\"\n",
        "x = s.lower()\n",
        "print(x)"
      ],
      "metadata": {
        "colab": {
          "base_uri": "https://localhost:8080/"
        },
        "id": "LaFeOqj-eNqo",
        "outputId": "b0febf24-8cae-47e2-f624-2a8f876d3404"
      },
      "execution_count": null,
      "outputs": [
        {
          "output_type": "stream",
          "name": "stdout",
          "text": [
            "hello\n"
          ]
        }
      ]
    },
    {
      "cell_type": "code",
      "source": [
        "s = \"Python rocks\"\n",
        "n = s.index(\"o\")\n",
        "print(f\"The first occurrence of o in the string is at {n} index\")"
      ],
      "metadata": {
        "colab": {
          "base_uri": "https://localhost:8080/"
        },
        "id": "6XohFRv2eaxj",
        "outputId": "55c92ace-a828-4635-88a6-5aa55835693f"
      },
      "execution_count": null,
      "outputs": [
        {
          "output_type": "stream",
          "name": "stdout",
          "text": [
            "The first occurrence of o in the string is at 4 index\n"
          ]
        }
      ]
    },
    {
      "cell_type": "code",
      "source": [
        "s = \"example.py\"\n",
        "print(s.endswith(\".py\"))"
      ],
      "metadata": {
        "colab": {
          "base_uri": "https://localhost:8080/"
        },
        "id": "l189LZC0e4MT",
        "outputId": "83c74761-c91c-4762-ebc0-9679d0e64c99"
      },
      "execution_count": null,
      "outputs": [
        {
          "output_type": "stream",
          "name": "stdout",
          "text": [
            "True\n"
          ]
        }
      ]
    },
    {
      "cell_type": "code",
      "source": [
        "s = \"data science is fun\"\n",
        "lista = s.split(\" \")\n",
        "print(lista)"
      ],
      "metadata": {
        "colab": {
          "base_uri": "https://localhost:8080/"
        },
        "id": "cKrXZ-I7fN4b",
        "outputId": "ecac5924-0c99-4e33-df1c-4a2b521ea0d7"
      },
      "execution_count": null,
      "outputs": [
        {
          "output_type": "stream",
          "name": "stdout",
          "text": [
            "['data', 'science', 'is', 'fun']\n"
          ]
        }
      ]
    },
    {
      "cell_type": "code",
      "source": [
        "s = \"python\"\n",
        "x = s.capitalize()\n",
        "print(s, x)"
      ],
      "metadata": {
        "colab": {
          "base_uri": "https://localhost:8080/"
        },
        "id": "VnSJLZeBfYEk",
        "outputId": "a9e1c019-e20f-4f40-9519-0d49a2c3678c"
      },
      "execution_count": null,
      "outputs": [
        {
          "output_type": "stream",
          "name": "stdout",
          "text": [
            "python Python\n"
          ]
        }
      ]
    },
    {
      "cell_type": "code",
      "source": [
        "list1 = [\"data\", \"science\", \"rocks\"]\n",
        "s = \" \".join(list1)\n",
        "print(s)\n"
      ],
      "metadata": {
        "colab": {
          "base_uri": "https://localhost:8080/"
        },
        "id": "FoBri0aBfj-s",
        "outputId": "bfb1c964-3a21-42ef-e3b9-36a8fa3e9820"
      },
      "execution_count": null,
      "outputs": [
        {
          "output_type": "stream",
          "name": "stdout",
          "text": [
            "data science rocks\n"
          ]
        }
      ]
    },
    {
      "cell_type": "code",
      "source": [
        "s = \"This is a simple string\"\n",
        "i_cnt = s.count(\"i\")\n",
        "print(f\"i appears {i_cnt} times in {s}\")\n"
      ],
      "metadata": {
        "colab": {
          "base_uri": "https://localhost:8080/"
        },
        "id": "5hUJChDHgELq",
        "outputId": "fe79644f-b566-49b8-fb58-bb839beb3adc"
      },
      "execution_count": null,
      "outputs": [
        {
          "output_type": "stream",
          "name": "stdout",
          "text": [
            "i appears 4 times in This is a simple string\n"
          ]
        }
      ]
    },
    {
      "cell_type": "code",
      "source": [
        "s = \"2025\"\n",
        "print(s.isnumeric())"
      ],
      "metadata": {
        "colab": {
          "base_uri": "https://localhost:8080/"
        },
        "id": "lWPF84y6ggE_",
        "outputId": "6a1aa059-5a2a-4c9c-a4bc-f37c1be3029c"
      },
      "execution_count": null,
      "outputs": [
        {
          "output_type": "stream",
          "name": "stdout",
          "text": [
            "True\n"
          ]
        }
      ]
    },
    {
      "cell_type": "code",
      "source": [
        "s = \"LearnPython\"\n",
        "print(s.isalpha())"
      ],
      "metadata": {
        "colab": {
          "base_uri": "https://localhost:8080/"
        },
        "id": "iPKfovbhgvRm",
        "outputId": "275baca3-d94d-4b03-816f-505e503f95b8"
      },
      "execution_count": null,
      "outputs": [
        {
          "output_type": "stream",
          "name": "stdout",
          "text": [
            "True\n"
          ]
        }
      ]
    },
    {
      "cell_type": "code",
      "source": [
        "s = \"Python Programming Language\"\n",
        "first = s.split(\" \")[0]\n",
        "print(f\"The first word from {s} is {first}\")"
      ],
      "metadata": {
        "colab": {
          "base_uri": "https://localhost:8080/"
        },
        "id": "DrWZE46Cg3dL",
        "outputId": "b5b9db85-fb8d-4bca-fe38-8ab15c06af36"
      },
      "execution_count": null,
      "outputs": [
        {
          "output_type": "stream",
          "name": "stdout",
          "text": [
            "The first word from Python Programming Language is Python\n"
          ]
        }
      ]
    },
    {
      "cell_type": "code",
      "source": [
        "s = \"welcome to python\"\n",
        "x = s.capitalize()\n",
        "print(\"Capitalized string: \", x)"
      ],
      "metadata": {
        "colab": {
          "base_uri": "https://localhost:8080/"
        },
        "id": "knKq5RaOhWzT",
        "outputId": "0ec1f20b-2613-44ff-8201-12b21dd40649"
      },
      "execution_count": null,
      "outputs": [
        {
          "output_type": "stream",
          "name": "stdout",
          "text": [
            "Capitalized string:  Welcome to python\n"
          ]
        }
      ]
    },
    {
      "cell_type": "code",
      "source": [
        "s = \"1,000,000\"\n",
        "x = s.replace(\",\",\"\")\n",
        "print(x)"
      ],
      "metadata": {
        "colab": {
          "base_uri": "https://localhost:8080/"
        },
        "id": "Efuboz_Zh_4R",
        "outputId": "5c83cf51-a3ed-4204-abba-9774fd070b77"
      },
      "execution_count": null,
      "outputs": [
        {
          "output_type": "stream",
          "name": "stdout",
          "text": [
            "1000000\n"
          ]
        }
      ]
    },
    {
      "cell_type": "code",
      "source": [
        "s = \"Python is fun. I love python.\"\n",
        "python_cnt = s.lower().count(\"python\")\n",
        "print(f\"python appears {python_cnt} times in {s}\")"
      ],
      "metadata": {
        "colab": {
          "base_uri": "https://localhost:8080/"
        },
        "id": "FanEwlp6iRDZ",
        "outputId": "259aef66-ed17-46cc-b840-3406d7915883"
      },
      "execution_count": null,
      "outputs": [
        {
          "output_type": "stream",
          "name": "stdout",
          "text": [
            "python appears 2 times in Python is fun. I love python.\n"
          ]
        }
      ]
    },
    {
      "cell_type": "code",
      "source": [
        "s = \"introduction to python\"\n",
        "x = s.title()\n",
        "print(x)"
      ],
      "metadata": {
        "colab": {
          "base_uri": "https://localhost:8080/"
        },
        "id": "arOtL55eikR_",
        "outputId": "a8ee0468-102a-4cd2-c391-6b57894415fd"
      },
      "execution_count": null,
      "outputs": [
        {
          "output_type": "stream",
          "name": "stdout",
          "text": [
            "Introduction To Python\n"
          ]
        }
      ]
    },
    {
      "cell_type": "code",
      "source": [
        "s = \"This is good. That is fine. It is okay.\"\n",
        "x = s.replace(\"is\",\"was\",2)\n",
        "print(x)"
      ],
      "metadata": {
        "colab": {
          "base_uri": "https://localhost:8080/"
        },
        "id": "YAG2y221jsIf",
        "outputId": "b5cee71b-8146-4a56-bbcd-6548c7f6d0cd"
      },
      "execution_count": null,
      "outputs": [
        {
          "output_type": "stream",
          "name": "stdout",
          "text": [
            "Thwas was good. That is fine. It is okay.\n"
          ]
        }
      ]
    },
    {
      "cell_type": "code",
      "source": [
        "s = \" \"\n",
        "print(s.isspace())"
      ],
      "metadata": {
        "colab": {
          "base_uri": "https://localhost:8080/"
        },
        "id": "HwIr51_nkXFC",
        "outputId": "4b027639-d887-46d1-a9bf-e927fd4d6cce"
      },
      "execution_count": null,
      "outputs": [
        {
          "output_type": "stream",
          "name": "stdout",
          "text": [
            "True\n"
          ]
        }
      ]
    },
    {
      "cell_type": "code",
      "source": [],
      "metadata": {
        "id": "ePa2fAgFkkTh"
      },
      "execution_count": null,
      "outputs": []
    }
  ]
}