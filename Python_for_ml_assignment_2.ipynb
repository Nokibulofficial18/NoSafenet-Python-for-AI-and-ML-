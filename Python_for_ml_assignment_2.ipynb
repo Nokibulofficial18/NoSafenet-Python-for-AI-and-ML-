{
  "nbformat": 4,
  "nbformat_minor": 0,
  "metadata": {
    "colab": {
      "provenance": [],
      "authorship_tag": "ABX9TyOr9Q4j6VTdIngNGXo8nY99",
      "include_colab_link": true
    },
    "kernelspec": {
      "name": "python3",
      "display_name": "Python 3"
    },
    "language_info": {
      "name": "python"
    }
  },
  "cells": [
    {
      "cell_type": "markdown",
      "metadata": {
        "id": "view-in-github",
        "colab_type": "text"
      },
      "source": [
        "<a href=\"https://colab.research.google.com/github/Nokibulofficial18/NoSafenet-Python-for-AI-and-ML-/blob/main/Python_for_ml_assignment_2.ipynb\" target=\"_parent\"><img src=\"https://colab.research.google.com/assets/colab-badge.svg\" alt=\"Open In Colab\"/></a>"
      ]
    },
    {
      "cell_type": "code",
      "execution_count": null,
      "metadata": {
        "colab": {
          "base_uri": "https://localhost:8080/"
        },
        "id": "lPijOmon5osF",
        "outputId": "7ddf4480-d1b0-44f5-8aab-61194a98f402"
      },
      "outputs": [
        {
          "output_type": "stream",
          "name": "stdout",
          "text": [
            "Area of the rechtangle is: 20\n"
          ]
        }
      ],
      "source": [
        "height = 5\n",
        "width = 4\n",
        "area = height * width\n",
        "print(\"Area of the rechtangle is:\",area)"
      ]
    },
    {
      "cell_type": "code",
      "source": [
        "n = 21\n",
        "if n % 7 == 0:\n",
        "  print(f\"{n} is divisible by 7\")\n",
        "else:\n",
        "   print(f\"{n} is divisible by 7\")"
      ],
      "metadata": {
        "colab": {
          "base_uri": "https://localhost:8080/"
        },
        "id": "uTrpLgsD57Py",
        "outputId": "bdf7d387-a2fb-4e68-af35-3a04b897c652"
      },
      "execution_count": null,
      "outputs": [
        {
          "output_type": "stream",
          "name": "stdout",
          "text": [
            "Enter a number: 56\n",
            "56 is divisible by 7\n"
          ]
        }
      ]
    },
    {
      "cell_type": "code",
      "source": [
        "a = 10\n",
        "b = 20\n",
        "print(f\"Before Swaping a:{a}, b:{b}\")\n",
        "temp = a\n",
        "a = b\n",
        "b = temp\n",
        "print(f\"After Swaping a:{a}, b:{b}\")\n"
      ],
      "metadata": {
        "colab": {
          "base_uri": "https://localhost:8080/"
        },
        "id": "5AllcA0e6MsS",
        "outputId": "6bf86d5c-c0c8-4249-db18-18dcab50e687"
      },
      "execution_count": null,
      "outputs": [
        {
          "output_type": "stream",
          "name": "stdout",
          "text": [
            "Before Swaping a:10, b:20\n",
            "After Swaping a:20, b:10\n"
          ]
        }
      ]
    },
    {
      "cell_type": "code",
      "source": [
        "a = 5\n",
        "b = 3\n",
        "result = a**b + a*b - a//b\n",
        "print(f\"The result of the expression is: {result}\")"
      ],
      "metadata": {
        "colab": {
          "base_uri": "https://localhost:8080/"
        },
        "id": "lwV4AIan6m_l",
        "outputId": "38fed86d-d8ea-4c32-9ba7-6beb02f1055d"
      },
      "execution_count": null,
      "outputs": [
        {
          "output_type": "stream",
          "name": "stdout",
          "text": [
            "The result of the expression is: 139\n"
          ]
        }
      ]
    },
    {
      "cell_type": "code",
      "source": [
        "a = int(input(\"Enter a number: \"))\n",
        "b = int(input(\"Enter another number: \"))\n",
        "if(a>b):\n",
        "  print(f\"{a} is greater.\")\n",
        "else:\n",
        "  print(f\"{b} is greater\")"
      ],
      "metadata": {
        "colab": {
          "base_uri": "https://localhost:8080/"
        },
        "id": "DOmF4p7f62Py",
        "outputId": "3101c2b1-2ff2-4c66-e022-d0257b48de0c"
      },
      "execution_count": null,
      "outputs": [
        {
          "output_type": "stream",
          "name": "stdout",
          "text": [
            "Enter a number: 4\n",
            "Enter another number: 5\n",
            "5 is greater\n"
          ]
        }
      ]
    },
    {
      "cell_type": "code",
      "source": [
        "a = int(input(\"Enter a number: \"))\n",
        "if a % 2 == 0:\n",
        "  print(f\"{a} is even\")\n",
        "else:\n",
        "  print(f\"{a} is odd\")"
      ],
      "metadata": {
        "colab": {
          "base_uri": "https://localhost:8080/"
        },
        "id": "LbuYNaCD7R_H",
        "outputId": "4c7eafec-3138-4ec7-dd0b-4b1300a0acaf"
      },
      "execution_count": null,
      "outputs": [
        {
          "output_type": "stream",
          "name": "stdout",
          "text": [
            "Enter a number: 56\n",
            "56 is even\n"
          ]
        }
      ]
    },
    {
      "cell_type": "code",
      "source": [
        "x = 10\n",
        "if x>5:\n",
        "  print(\"Greater than 5\")\n"
      ],
      "metadata": {
        "colab": {
          "base_uri": "https://localhost:8080/"
        },
        "id": "5PmHRMXh7qaJ",
        "outputId": "949184c0-5bd6-4dda-8327-6ee1e21c6967"
      },
      "execution_count": null,
      "outputs": [
        {
          "output_type": "stream",
          "name": "stdout",
          "text": [
            "Greater than 5\n"
          ]
        }
      ]
    },
    {
      "cell_type": "code",
      "source": [
        "\"\"\"\n",
        " Indentation is important in python because without proper indentation a code won't work.\n",
        " As there is no {} for python like c or c++ so how will python know that which part of its code is under branching(if,loop)\n",
        " so to over come this python use indentation to find out which part of the code is under if/loop block and which is not\n",
        "\"\"\"\n",
        "\n",
        "# Working example:\n",
        "if x>5:\n",
        "  print(\"Greater than 5\")\n",
        "\n",
        "\"\"\"\n",
        "Non-working example (will raise an IndentationError):\n",
        "  if x>5:\n",
        "print(\"Greater than 5\")\n",
        "\"\"\""
      ],
      "metadata": {
        "colab": {
          "base_uri": "https://localhost:8080/",
          "height": 53
        },
        "id": "ibXq9kVT7yas",
        "outputId": "c9db54cd-6e3b-4528-b99d-91f869cc01bc"
      },
      "execution_count": null,
      "outputs": [
        {
          "output_type": "stream",
          "name": "stdout",
          "text": [
            "Greater than 5\n"
          ]
        },
        {
          "output_type": "execute_result",
          "data": {
            "text/plain": [
              "'\\nNon-working example (will raise an IndentationError):\\n  if x>5:\\nprint(\"Greater than 5\")    \\n'"
            ],
            "application/vnd.google.colaboratory.intrinsic+json": {
              "type": "string"
            }
          },
          "metadata": {},
          "execution_count": 34
        }
      ]
    },
    {
      "cell_type": "code",
      "source": [
        "n=int(input(\"Enter a number: \"))\n",
        "if(n>0):\n",
        "  print(\"The number is positive\")\n",
        "elif(n<0):\n",
        "  print(\"The number is negative\")\n",
        "else:\n",
        "  print(\"The number is zero\")"
      ],
      "metadata": {
        "colab": {
          "base_uri": "https://localhost:8080/"
        },
        "id": "I9Vu-mQV89Op",
        "outputId": "734d59a3-5ac1-4840-b024-854a9270f76b"
      },
      "execution_count": null,
      "outputs": [
        {
          "output_type": "stream",
          "name": "stdout",
          "text": [
            "Enter a number: 6\n",
            "The number is positive\n"
          ]
        }
      ]
    },
    {
      "cell_type": "code",
      "source": [
        "a = int(input(\"Enter a number: \"))\n",
        "if a % 2 == 0:\n",
        "  print(f\"{a} is even\")\n",
        "else:\n",
        "  print(f\"{a} is odd\")"
      ],
      "metadata": {
        "colab": {
          "base_uri": "https://localhost:8080/"
        },
        "id": "ltct7HRl9XHJ",
        "outputId": "7b245eb1-0474-4313-fedf-871fb1e29031"
      },
      "execution_count": null,
      "outputs": [
        {
          "output_type": "stream",
          "name": "stdout",
          "text": [
            "Enter a number: 54\n",
            "54 is even\n"
          ]
        }
      ]
    },
    {
      "cell_type": "code",
      "source": [
        "marks = int(input(\"Enter a number: \"))\n",
        "if marks>=33:\n",
        "  print(\"The student have passed\")\n",
        "else:\n",
        "  print(\"The student have not passed\")"
      ],
      "metadata": {
        "colab": {
          "base_uri": "https://localhost:8080/"
        },
        "id": "pfX4lePb9dbb",
        "outputId": "42fbac39-f376-49d5-9d83-ccd00635450b"
      },
      "execution_count": null,
      "outputs": [
        {
          "output_type": "stream",
          "name": "stdout",
          "text": [
            "Enter a number: 32\n",
            "The student have not passed\n"
          ]
        }
      ]
    },
    {
      "cell_type": "code",
      "source": [
        "a = int(input(\"Enter first number: \"))\n",
        "b = int(input(\"Enter second number: \"))\n",
        "c = int(input(\"Enter third number: \"))\n",
        "if a>b and a>c:\n",
        "  print(f\"{a} is the greatest\")\n",
        "elif b>a and b>c:\n",
        "  print(f\"{b} is the greatest\")\n",
        "else:\n",
        "  print(f\"{c} is the greatest\")"
      ],
      "metadata": {
        "colab": {
          "base_uri": "https://localhost:8080/"
        },
        "id": "F9cn9cAZ9rVS",
        "outputId": "52b49a14-d39d-4cfd-d9be-d7e6a73f837b"
      },
      "execution_count": null,
      "outputs": [
        {
          "output_type": "stream",
          "name": "stdout",
          "text": [
            "Enter first number: 12\n",
            "Enter second number: 21\n",
            "Enter third number: 23\n",
            "23 is the greatest\n"
          ]
        }
      ]
    },
    {
      "cell_type": "code",
      "source": [
        "a = int(input(\"Enter first number: \"))\n",
        "b = int(input(\"Enter second number: \"))\n",
        "c = input(\"Enter the operator(+,-,*,/)\")\n",
        "if c == '+':\n",
        "  print(f\"{a} + {b} = {a+b}\")\n",
        "elif c == '-':\n",
        "  print(f\"{a} - {b} = {a-b}\")\n",
        "elif c == '*':\n",
        "  print(f\"{a} * {b} = {a*b}\")\n",
        "elif c == '/':\n",
        "  print(f\"{a} / {b} = {a//b}\")\n",
        "else:\n",
        "  print(\"Invalid Operator.\")"
      ],
      "metadata": {
        "colab": {
          "base_uri": "https://localhost:8080/"
        },
        "id": "SSloFmbh-Hul",
        "outputId": "01e6fb87-a5ef-4db4-b490-c135f7c909f3"
      },
      "execution_count": null,
      "outputs": [
        {
          "output_type": "stream",
          "name": "stdout",
          "text": [
            "Enter first number: 45\n",
            "Enter second number: 65\n",
            "Enter the operator(+,-,*,/)*\n",
            "45 * 65 = 2925\n"
          ]
        }
      ]
    },
    {
      "cell_type": "code",
      "source": [
        "\n",
        "year = int(input(\"Enter your desired year: \"))\n",
        "\n",
        "\n",
        "if (year % 400 == 0):\n",
        "    print(f\"{year} is a leap year.\")\n",
        "elif (year % 100 == 0):\n",
        "    print(f\"{year} is not a leap year.\")\n",
        "elif (year % 4 == 0):\n",
        "    print(f\"{year} is a leap year.\")\n",
        "else:\n",
        "    print(f\"{year} is not a leap year.\")\n"
      ],
      "metadata": {
        "colab": {
          "base_uri": "https://localhost:8080/"
        },
        "id": "JQWvstv0-3jI",
        "outputId": "80ebaa96-6498-45b3-c611-e2c55d1fdd00"
      },
      "execution_count": null,
      "outputs": [
        {
          "output_type": "stream",
          "name": "stdout",
          "text": [
            "Enter your desired year: 2024\n",
            "2024 is a leap year.\n"
          ]
        }
      ]
    },
    {
      "cell_type": "code",
      "source": [
        "i = 1\n",
        "while i <=10:\n",
        "  print(i,end=\" \")\n",
        "  i = i+1"
      ],
      "metadata": {
        "colab": {
          "base_uri": "https://localhost:8080/"
        },
        "id": "WXEOWRby_agR",
        "outputId": "6a34603c-72d5-4fe2-e758-31e83cf10cb7"
      },
      "execution_count": null,
      "outputs": [
        {
          "output_type": "stream",
          "name": "stdout",
          "text": [
            "1 2 3 4 5 6 7 8 9 10 "
          ]
        }
      ]
    },
    {
      "cell_type": "code",
      "source": [
        "print(\"Multiplication table of 6: \")\n",
        "for i in range(1,11):\n",
        "  print(f\"6 x {i} = {6*i}\")"
      ],
      "metadata": {
        "colab": {
          "base_uri": "https://localhost:8080/"
        },
        "id": "msgFwoPC_kE5",
        "outputId": "eae8e22c-3672-4da0-ed3d-821ed86df336"
      },
      "execution_count": null,
      "outputs": [
        {
          "output_type": "stream",
          "name": "stdout",
          "text": [
            "Multiplication table of 6: \n",
            "6 x 1 = 6\n",
            "6 x 2 = 12\n",
            "6 x 3 = 18\n",
            "6 x 4 = 24\n",
            "6 x 5 = 30\n",
            "6 x 6 = 36\n",
            "6 x 7 = 42\n",
            "6 x 8 = 48\n",
            "6 x 9 = 54\n",
            "6 x 10 = 60\n"
          ]
        }
      ]
    },
    {
      "cell_type": "code",
      "source": [
        "sum = 0\n",
        "for i in range(1,101):\n",
        "  sum += i\n",
        "\n",
        "print(\"Sum from 1 to 100 is:\",sum)"
      ],
      "metadata": {
        "colab": {
          "base_uri": "https://localhost:8080/"
        },
        "id": "NRSEmtbiALfR",
        "outputId": "068c2915-1794-44d8-aef6-88eb61aee6b1"
      },
      "execution_count": null,
      "outputs": [
        {
          "output_type": "stream",
          "name": "stdout",
          "text": [
            "Sum from 1 to 100 is: 5050\n"
          ]
        }
      ]
    },
    {
      "cell_type": "code",
      "source": [
        "n = int(input(\"Enter a number: \"))\n",
        "temp = n\n",
        "digits = 0\n",
        "while temp>0:\n",
        "  digits += 1\n",
        "  temp //= 10\n",
        "print(f\"{n} have {digits} digits\")"
      ],
      "metadata": {
        "colab": {
          "base_uri": "https://localhost:8080/"
        },
        "id": "s-lgWjw5AuU-",
        "outputId": "02b318af-fad3-491d-9ff6-6ebd2bb6b21e"
      },
      "execution_count": null,
      "outputs": [
        {
          "output_type": "stream",
          "name": "stdout",
          "text": [
            "Enter a number: 456\n",
            "456 have 3 digits\n"
          ]
        }
      ]
    },
    {
      "cell_type": "code",
      "source": [
        "for i in range(2,51,2):\n",
        "  print(i,end=\" \")"
      ],
      "metadata": {
        "colab": {
          "base_uri": "https://localhost:8080/"
        },
        "id": "t2dU9pulBE2M",
        "outputId": "c9408cef-66db-4dfa-ac0d-15604817cd35"
      },
      "execution_count": null,
      "outputs": [
        {
          "output_type": "stream",
          "name": "stdout",
          "text": [
            "2 4 6 8 10 12 14 16 18 20 22 24 26 28 30 32 34 36 38 40 42 44 46 48 50 "
          ]
        }
      ]
    },
    {
      "cell_type": "code",
      "source": [
        "n = int(input(\"Enter a number: \"))\n",
        "fact = 1\n",
        "for i in range (1,n+1):\n",
        "  fact *= i\n",
        "print(f\"Factorial of {n} is {fact}\")"
      ],
      "metadata": {
        "colab": {
          "base_uri": "https://localhost:8080/"
        },
        "id": "vrBWROJzBOj-",
        "outputId": "e102e95b-8850-416d-e0f8-1382460b3d81"
      },
      "execution_count": null,
      "outputs": [
        {
          "output_type": "stream",
          "name": "stdout",
          "text": [
            "Enter a number: 236\n",
            "Factorial of 236 is 1257286521829809852522432602192237043962420111587517182185282167859393833998435970616540717415898427784984473447990617367563433948484506876830127174437083005141539040356040105854054119132085436114190914221684704295353373344661986220406465038338295680627940567692710933178603763184382721719223039895582218462276317539764129360057392146874652124017927952151332902204578729865820715723543552685154087469056000000000000000000000000000000000000000000000000000000000\n"
          ]
        }
      ]
    },
    {
      "cell_type": "code",
      "source": [
        "n = int(input(\"Enter a number: \"))\n",
        "flag = True\n",
        "for i in range(2,n):\n",
        "  if n % i == 0:\n",
        "    flag = False\n",
        "if flag:\n",
        "  print(f\"{n} is prime\")\n",
        "else:\n",
        "  print(f\"{n} is not prime\")"
      ],
      "metadata": {
        "colab": {
          "base_uri": "https://localhost:8080/"
        },
        "id": "P-WdUqNiBqBD",
        "outputId": "663437d8-82f1-42a6-e67c-ca182e4f9ca5"
      },
      "execution_count": null,
      "outputs": [
        {
          "output_type": "stream",
          "name": "stdout",
          "text": [
            "Enter a number: 568\n",
            "568 is not prime\n"
          ]
        }
      ]
    },
    {
      "cell_type": "code",
      "source": [
        "n = int(input(\"Enter a number: \"))\n",
        "temp = n\n",
        "sum = 0\n",
        "while temp>0:\n",
        "  digit = temp % 10\n",
        "  sum += digit\n",
        "  temp //= 10\n",
        "print(f\"Sum of digits of {n} is {sum}\")"
      ],
      "metadata": {
        "colab": {
          "base_uri": "https://localhost:8080/"
        },
        "id": "ul3B1x8rCHZ-",
        "outputId": "fedc4908-2ee8-4527-9964-dba678e9dc7f"
      },
      "execution_count": null,
      "outputs": [
        {
          "output_type": "stream",
          "name": "stdout",
          "text": [
            "Enter a number: 12345\n",
            "Sum of digits of 12345 is 15\n"
          ]
        }
      ]
    },
    {
      "cell_type": "code",
      "source": [
        "n = int(input(\"Enter a number: \"))\n",
        "temp = n\n",
        "rev_num = 0\n",
        "while temp>0:\n",
        "  digit = temp % 10\n",
        "  rev_num = rev_num * 10 + digit\n",
        "  temp //= 10\n",
        "print(f\"Reverse of {n} is {rev_num}\")"
      ],
      "metadata": {
        "colab": {
          "base_uri": "https://localhost:8080/"
        },
        "id": "kCZLQtmyCYHl",
        "outputId": "707a046f-5ad7-4ddf-a1d0-faad1a5d7699"
      },
      "execution_count": null,
      "outputs": [
        {
          "output_type": "stream",
          "name": "stdout",
          "text": [
            "Enter a number: 12345\n",
            "Reverse of 12345 is 54321\n"
          ]
        }
      ]
    },
    {
      "cell_type": "code",
      "source": [],
      "metadata": {
        "id": "0Bi7g516CroQ"
      },
      "execution_count": null,
      "outputs": []
    }
  ]
}