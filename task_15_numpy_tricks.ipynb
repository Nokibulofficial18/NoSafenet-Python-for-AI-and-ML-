{
  "nbformat": 4,
  "nbformat_minor": 0,
  "metadata": {
    "colab": {
      "provenance": [],
      "include_colab_link": true
    },
    "kernelspec": {
      "name": "python3",
      "display_name": "Python 3"
    },
    "language_info": {
      "name": "python"
    }
  },
  "cells": [
    {
      "cell_type": "markdown",
      "metadata": {
        "id": "view-in-github",
        "colab_type": "text"
      },
      "source": [
        "<a href=\"https://colab.research.google.com/github/Nokibulofficial18/NoSafenet-Python-for-AI-and-ML-/blob/main/task_15_numpy_tricks.ipynb\" target=\"_parent\"><img src=\"https://colab.research.google.com/assets/colab-badge.svg\" alt=\"Open In Colab\"/></a>"
      ]
    },
    {
      "cell_type": "markdown",
      "source": [
        "###`Q-1:` Create a random 3x4 matrix with value between 0-100. And perform below tasks\n",
        "\n",
        "    i. Sort this matrix. np.sort()\n",
        "    ii. Sort this matrix based on values in 2nd column.\n",
        "    iii. Sort this matrix based on max value in each row.\n",
        "    iv. Sort based on elements value.\n"
      ],
      "metadata": {
        "id": "J88qfqQEk_sT"
      }
    },
    {
      "cell_type": "markdown",
      "source": [
        "See examples:\n",
        "```\n",
        "arr =\n",
        "    [[92 90 74]\n",
        "    [ 6 63 93]\n",
        "    [15 93 96]\n",
        "    [70 60 48]]\n",
        "```\n",
        "```\n",
        "i. np.sort\n",
        "[[74 90 92]\n",
        " [ 6 63 93]\n",
        " [15 93 96]\n",
        " [48 60 70]]\n",
        "\n",
        "ii. based on 2nd column\n",
        "[[70 60 48]\n",
        " [ 6 63 93]\n",
        " [92 90 74]\n",
        " [15 93 96]]\n",
        "\n",
        "iii. based on row max- ascending\n",
        "[[15 93 96]\n",
        " [ 6 63 93]\n",
        " [92 90 74]\n",
        " [70 60 48]]\n",
        "\n",
        "iv. based on elements value\n",
        "[[ 6 15 48]\n",
        " [60 63 70]\n",
        " [74 90 92]\n",
        " [93 93 96]]\n",
        "\n",
        "```"
      ],
      "metadata": {
        "id": "xpOwOdhqlE9R"
      }
    },
    {
      "cell_type": "code",
      "source": [
        "# code here\n",
        "import numpy as np\n",
        "arr = np.random.randint(101,size=3*4).reshape(3,4)\n",
        "print(arr)\n",
        "print()\n",
        "print(np.sort(arr))\n",
        "print()\n",
        "print(arr[arr[:,1].argsort()])\n",
        "print()\n",
        "row_max = arr.max(axis=1)\n",
        "sorted_idx = row_max.argsort()\n",
        "print(arr[sorted_idx])\n",
        "print()\n",
        "print(np.sort(arr).reshape(arr.shape))"
      ],
      "metadata": {
        "id": "Auy-guUwlALv",
        "outputId": "434c15de-e736-4d7c-8b8e-3da92358c9cb",
        "colab": {
          "base_uri": "https://localhost:8080/"
        }
      },
      "execution_count": 8,
      "outputs": [
        {
          "output_type": "stream",
          "name": "stdout",
          "text": [
            "[[70  0 38 47]\n",
            " [67 95 99 64]\n",
            " [76 40 51 12]]\n",
            "\n",
            "[[ 0 38 47 70]\n",
            " [64 67 95 99]\n",
            " [12 40 51 76]]\n",
            "\n",
            "[[70  0 38 47]\n",
            " [76 40 51 12]\n",
            " [67 95 99 64]]\n",
            "\n",
            "[[70  0 38 47]\n",
            " [76 40 51 12]\n",
            " [67 95 99 64]]\n",
            "\n",
            "[[ 0 38 47 70]\n",
            " [64 67 95 99]\n",
            " [12 40 51 76]]\n"
          ]
        }
      ]
    },
    {
      "cell_type": "markdown",
      "source": [
        "###`Q-2:` There is an array of marks of 5 students in 4 subjects. Further you are asked to perform below task.\n",
        "    i. Add marks every student of an extra subject in the same array.\n",
        "    ii. Add two new students marks in respective 5 subjects.(one subject added in above task)\n",
        "    iii. Add extra column with sum of all subjects(5-subjects) marks\n",
        "    iv. Sort the array(non-ascending order) on total marks column--one added in above task. Show top 2 rows.\n",
        "\n",
        "Note: Change dimension of arrays during concatenation or appending if required."
      ],
      "metadata": {
        "id": "Jx_I3gx9lBay"
      }
    },
    {
      "cell_type": "markdown",
      "source": [
        "Given Array-\n",
        "```\n",
        "marks = [[13, 10,  9, 33],\n",
        "       [63, 46, 90, 42],\n",
        "       [39, 76, 13, 29],\n",
        "       [82,  9, 29, 78],\n",
        "       [67, 61, 59, 36]]\n",
        "\n",
        "extra_subject = [41, 87, 72, 36, 92]\n",
        "#Two extra students record-\n",
        "rec1 = [77, 83, 98, 95, 89]\n",
        "rec2 = [92, 71, 52, 61, 53]\n",
        "```"
      ],
      "metadata": {
        "id": "lXF-CE6ylNIw"
      }
    },
    {
      "cell_type": "code",
      "source": [
        "import numpy as np\n",
        "\n",
        "marks = np.array([[13, 10,  9, 33],\n",
        "                  [63, 46, 90, 42],\n",
        "                  [39, 76, 13, 29],\n",
        "                  [82,  9, 29, 78],\n",
        "                  [67, 61, 59, 36]])\n",
        "extra_subject = np.array([41, 87, 72, 36, 92]).reshape(-1, 1)\n",
        "\n",
        "\n",
        "rec1 = np.array([77, 83, 98, 95, 89])\n",
        "rec2 = np.array([92, 71, 52, 61, 53])\n",
        "new_stu = np.vstack((rec1, rec2))\n",
        "\n",
        "\n",
        "marks_update = np.hstack((marks, extra_subject))\n",
        "\n",
        "\n",
        "full = np.vstack((marks_update, new_stu))\n",
        "\n",
        "\n",
        "total = np.sum(full, axis=1).reshape(-1, 1)\n",
        "full_with_total = np.hstack((full, total))\n",
        "\n",
        "sorted_by_total = full_with_total[np.argsort(full_with_total[:, -1])[::-1]]\n",
        "\n",
        "\n",
        "top_2 = sorted_by_total[:2]\n",
        "\n",
        "print(top_2)\n"
      ],
      "metadata": {
        "id": "7YKsWO2olMkq",
        "outputId": "6a723272-fdf7-4788-f317-fb3691214392",
        "colab": {
          "base_uri": "https://localhost:8080/"
        }
      },
      "execution_count": 10,
      "outputs": [
        {
          "output_type": "stream",
          "name": "stdout",
          "text": [
            "[[ 77  83  98  95  89 442]\n",
            " [ 92  71  52  61  53 329]]\n"
          ]
        }
      ]
    },
    {
      "cell_type": "markdown",
      "source": [
        "###`Q-3:` Find unique arrays from a 2D array column wise and row wise.\n",
        "```\n",
        "arr = np.array([[1,2,3,3,1,1],\n",
        "                [0,9,1,2,8,8],\n",
        "                [1,2,3,8,8,8],\n",
        "                [1,2,3,3,1,1]])\n",
        "```\n",
        "Expected Result-\n",
        "```\n",
        "Row Wise\n",
        "[[0 9 1 2 8 8]\n",
        " [1 2 3 3 1 1]\n",
        " [1 2 3 8 8 8]]\n",
        "\n",
        "Col Wise\n",
        "[[1 1 2 3 3]\n",
        " [0 8 9 1 2]\n",
        " [1 8 2 3 8]\n",
        " [1 1 2 3 3]]\n",
        "```"
      ],
      "metadata": {
        "id": "VmOyK_8klRqR"
      }
    },
    {
      "cell_type": "code",
      "source": [
        "# code here\n",
        "arr = np.array([[1,2,3,3,1,1],\n",
        "                [0,9,1,2,8,8],\n",
        "                [1,2,3,8,8,8],\n",
        "                [1,2,3,3,1,1]])\n",
        "uniq_row = np.unique(arr,axis=0)\n",
        "print(uniq_row)\n",
        "print()\n",
        "uniq_col = np.unique(arr,axis=1)\n",
        "print(uniq_col)"
      ],
      "metadata": {
        "id": "LJl10VQrlU5q",
        "outputId": "a671a2fc-38a0-4232-fd9a-a651d40b0765",
        "colab": {
          "base_uri": "https://localhost:8080/"
        }
      },
      "execution_count": 11,
      "outputs": [
        {
          "output_type": "stream",
          "name": "stdout",
          "text": [
            "[[0 9 1 2 8 8]\n",
            " [1 2 3 3 1 1]\n",
            " [1 2 3 8 8 8]]\n",
            "\n",
            "[[1 1 2 3 3]\n",
            " [0 8 9 1 2]\n",
            " [1 8 2 3 8]\n",
            " [1 1 2 3 3]]\n"
          ]
        }
      ]
    },
    {
      "cell_type": "markdown",
      "source": [
        "###`Q-4:` Flip given 2-D array along both axes at the same time."
      ],
      "metadata": {
        "id": "RaXwVkywlWY2"
      }
    },
    {
      "cell_type": "code",
      "source": [
        "# code here\n",
        "np.flip(arr)"
      ],
      "metadata": {
        "id": "mN7-4G8Kleeq",
        "outputId": "5533dc98-f07c-477f-d57b-4dbf87f6476a",
        "colab": {
          "base_uri": "https://localhost:8080/"
        }
      },
      "execution_count": 12,
      "outputs": [
        {
          "output_type": "execute_result",
          "data": {
            "text/plain": [
              "array([[1, 1, 3, 3, 2, 1],\n",
              "       [8, 8, 8, 3, 2, 1],\n",
              "       [8, 8, 2, 1, 9, 0],\n",
              "       [1, 1, 3, 3, 2, 1]])"
            ]
          },
          "metadata": {},
          "execution_count": 12
        }
      ]
    },
    {
      "cell_type": "markdown",
      "source": [
        "### `Q-5:` Get row numbers of NumPy array having element larger than X.\n",
        "```\n",
        "arr = [[1,2,3,4,5],\n",
        "      [10,-3,30,4,5],\n",
        "      [3,2,5,-4,5],\n",
        "      [9,7,3,6,5]]\n",
        "\n",
        "X = 6\n",
        "```"
      ],
      "metadata": {
        "id": "X0S7BUNTlfoq"
      }
    },
    {
      "cell_type": "code",
      "source": [
        "# code here\n",
        "arr = np.array([\n",
        "      [1,2,3,4,5],\n",
        "      [10,-3,30,4,5],\n",
        "      [3,2,5,-4,5],\n",
        "      [9,7,3,6,5]] )\n",
        "\n",
        "x = 6\n",
        "\n",
        "row_idx = np.where(np.any(arr>x,axis=1))[0]\n",
        "print(row_idx)"
      ],
      "metadata": {
        "id": "bi8jRmWhlkBU",
        "outputId": "972d6317-d379-47e2-8ca3-2d3a5a89071f",
        "colab": {
          "base_uri": "https://localhost:8080/"
        }
      },
      "execution_count": 16,
      "outputs": [
        {
          "output_type": "stream",
          "name": "stdout",
          "text": [
            "[1 3]\n"
          ]
        }
      ]
    },
    {
      "cell_type": "markdown",
      "source": [
        "### `Q-6:` How to convert an array of arrays into a flat 1d array?\n"
      ],
      "metadata": {
        "id": "DSCQMo4mlnDG"
      }
    },
    {
      "cell_type": "code",
      "source": [
        "# These arrays are given.\n",
        "arr1 = np.arange(3)\n",
        "arr2 = np.arange(3,7)\n",
        "arr3 = np.arange(7,10)"
      ],
      "metadata": {
        "id": "QZhSkUT2lsJW"
      },
      "execution_count": 17,
      "outputs": []
    },
    {
      "cell_type": "code",
      "source": [
        "# code here\n",
        "print(np.hstack((arr1,arr2,arr3)))\n",
        "print(np.concatenate((arr1,arr2,arr3)))\n",
        "# print(np.ravel([arr1, arr2, arr3]))"
      ],
      "metadata": {
        "id": "f42OXNrFls0I",
        "outputId": "b49a7871-5aec-4209-fd7c-fcdefff48be6",
        "colab": {
          "base_uri": "https://localhost:8080/",
          "height": 332
        }
      },
      "execution_count": 24,
      "outputs": [
        {
          "output_type": "stream",
          "name": "stdout",
          "text": [
            "[0 1 2 3 4 5 6 7 8 9]\n",
            "[0 1 2 3 4 5 6 7 8 9]\n"
          ]
        },
        {
          "output_type": "error",
          "ename": "ValueError",
          "evalue": "setting an array element with a sequence. The requested array has an inhomogeneous shape after 1 dimensions. The detected shape was (3,) + inhomogeneous part.",
          "traceback": [
            "\u001b[0;31m---------------------------------------------------------------------------\u001b[0m",
            "\u001b[0;31mValueError\u001b[0m                                Traceback (most recent call last)",
            "\u001b[0;32m<ipython-input-24-41774b4bd642>\u001b[0m in \u001b[0;36m<cell line: 0>\u001b[0;34m()\u001b[0m\n\u001b[1;32m      2\u001b[0m \u001b[0mprint\u001b[0m\u001b[0;34m(\u001b[0m\u001b[0mnp\u001b[0m\u001b[0;34m.\u001b[0m\u001b[0mhstack\u001b[0m\u001b[0;34m(\u001b[0m\u001b[0;34m(\u001b[0m\u001b[0marr1\u001b[0m\u001b[0;34m,\u001b[0m\u001b[0marr2\u001b[0m\u001b[0;34m,\u001b[0m\u001b[0marr3\u001b[0m\u001b[0;34m)\u001b[0m\u001b[0;34m)\u001b[0m\u001b[0;34m)\u001b[0m\u001b[0;34m\u001b[0m\u001b[0;34m\u001b[0m\u001b[0m\n\u001b[1;32m      3\u001b[0m \u001b[0mprint\u001b[0m\u001b[0;34m(\u001b[0m\u001b[0mnp\u001b[0m\u001b[0;34m.\u001b[0m\u001b[0mconcatenate\u001b[0m\u001b[0;34m(\u001b[0m\u001b[0;34m(\u001b[0m\u001b[0marr1\u001b[0m\u001b[0;34m,\u001b[0m\u001b[0marr2\u001b[0m\u001b[0;34m,\u001b[0m\u001b[0marr3\u001b[0m\u001b[0;34m)\u001b[0m\u001b[0;34m)\u001b[0m\u001b[0;34m)\u001b[0m\u001b[0;34m\u001b[0m\u001b[0;34m\u001b[0m\u001b[0m\n\u001b[0;32m----> 4\u001b[0;31m \u001b[0mprint\u001b[0m\u001b[0;34m(\u001b[0m\u001b[0mnp\u001b[0m\u001b[0;34m.\u001b[0m\u001b[0mravel\u001b[0m\u001b[0;34m(\u001b[0m\u001b[0;34m[\u001b[0m\u001b[0marr1\u001b[0m\u001b[0;34m,\u001b[0m \u001b[0marr2\u001b[0m\u001b[0;34m,\u001b[0m \u001b[0marr3\u001b[0m\u001b[0;34m]\u001b[0m\u001b[0;34m)\u001b[0m\u001b[0;34m)\u001b[0m\u001b[0;34m\u001b[0m\u001b[0;34m\u001b[0m\u001b[0m\n\u001b[0m",
            "\u001b[0;32m/usr/local/lib/python3.11/dist-packages/numpy/_core/fromnumeric.py\u001b[0m in \u001b[0;36mravel\u001b[0;34m(a, order)\u001b[0m\n\u001b[1;32m   1950\u001b[0m         \u001b[0;32mreturn\u001b[0m \u001b[0masarray\u001b[0m\u001b[0;34m(\u001b[0m\u001b[0ma\u001b[0m\u001b[0;34m)\u001b[0m\u001b[0;34m.\u001b[0m\u001b[0mravel\u001b[0m\u001b[0;34m(\u001b[0m\u001b[0morder\u001b[0m\u001b[0;34m=\u001b[0m\u001b[0morder\u001b[0m\u001b[0;34m)\u001b[0m\u001b[0;34m\u001b[0m\u001b[0;34m\u001b[0m\u001b[0m\n\u001b[1;32m   1951\u001b[0m     \u001b[0;32melse\u001b[0m\u001b[0;34m:\u001b[0m\u001b[0;34m\u001b[0m\u001b[0;34m\u001b[0m\u001b[0m\n\u001b[0;32m-> 1952\u001b[0;31m         \u001b[0;32mreturn\u001b[0m \u001b[0masanyarray\u001b[0m\u001b[0;34m(\u001b[0m\u001b[0ma\u001b[0m\u001b[0;34m)\u001b[0m\u001b[0;34m.\u001b[0m\u001b[0mravel\u001b[0m\u001b[0;34m(\u001b[0m\u001b[0morder\u001b[0m\u001b[0;34m=\u001b[0m\u001b[0morder\u001b[0m\u001b[0;34m)\u001b[0m\u001b[0;34m\u001b[0m\u001b[0;34m\u001b[0m\u001b[0m\n\u001b[0m\u001b[1;32m   1953\u001b[0m \u001b[0;34m\u001b[0m\u001b[0m\n\u001b[1;32m   1954\u001b[0m \u001b[0;34m\u001b[0m\u001b[0m\n",
            "\u001b[0;31mValueError\u001b[0m: setting an array element with a sequence. The requested array has an inhomogeneous shape after 1 dimensions. The detected shape was (3,) + inhomogeneous part."
          ]
        }
      ]
    },
    {
      "cell_type": "markdown",
      "source": [
        "### `Q-7:` You are given a array. You have to find the minimum and maximum array element and remove that from the array.\n",
        "\n",
        "```python\n",
        "import numpy as np\n",
        "\n",
        "np.random.seed(400)\n",
        "arr = np.random.randint(100, 1000, 200).reshape((1, 200))\n",
        "```"
      ],
      "metadata": {
        "id": "A1J4oOVCluqO"
      }
    },
    {
      "cell_type": "code",
      "source": [
        "from typing import final\n",
        "# code here\n",
        "np.random.seed(400)\n",
        "arr = np.random.randint(100, 1000, 200).reshape((1, 200))\n",
        "print(arr)\n",
        "print()\n",
        "flat_arr = arr.flatten()\n",
        "\n",
        "min_val = flat_arr.min()\n",
        "max_val = flat_arr.max()\n",
        "\n",
        "final_arr = flat_arr[(flat_arr!=min_val)&(flat_arr!=max_val)]\n",
        "print(final_arr)"
      ],
      "metadata": {
        "id": "c6kmgtUJlybZ",
        "outputId": "a05975e3-5732-4e00-d533-f1393d1f38e0",
        "colab": {
          "base_uri": "https://localhost:8080/"
        }
      },
      "execution_count": 25,
      "outputs": [
        {
          "output_type": "stream",
          "name": "stdout",
          "text": [
            "[[448 563 418 240 507 362 345 236 719 291 298 639 458 387 262 613 267 882\n",
            "  181 425 790 635 889 818 872 967 277 470 336 920 917 295 557 830 506 385\n",
            "  353 975 592 997 137 340 222 215 472 459 617 649 935 956 914 932 645 952\n",
            "  921 490 527 972 278 307 840 958 246 449 251 957 103 627 920 824 356 825\n",
            "  173 323 372 960 710 464 244 782 763 635 436 774 171 469 178 458 624 211\n",
            "  771 270 308 231 952 514 699 702 433 900 373 318 998 265 503 320 230 324\n",
            "  922 967 620 743 527 117 566 804 123 946 587 227 853 757 944 328 855 930\n",
            "  325 729 426 514 296 879 575 936 705 209 191 743 510 513 628 559 658 528\n",
            "  395 525 922 136 496 225 895 975 263 908 420 711 800 976 786 235 930 859\n",
            "  618 226 695 460 218 483 490 803 621 453 193 607 677 637 728 724 534 748\n",
            "  291 194 761 875 687 569 228 482 781 554 654 739 885 197 266 228 892 207\n",
            "  883 588]]\n",
            "\n",
            "[448 563 418 240 507 362 345 236 719 291 298 639 458 387 262 613 267 882\n",
            " 181 425 790 635 889 818 872 967 277 470 336 920 917 295 557 830 506 385\n",
            " 353 975 592 997 137 340 222 215 472 459 617 649 935 956 914 932 645 952\n",
            " 921 490 527 972 278 307 840 958 246 449 251 957 627 920 824 356 825 173\n",
            " 323 372 960 710 464 244 782 763 635 436 774 171 469 178 458 624 211 771\n",
            " 270 308 231 952 514 699 702 433 900 373 318 265 503 320 230 324 922 967\n",
            " 620 743 527 117 566 804 123 946 587 227 853 757 944 328 855 930 325 729\n",
            " 426 514 296 879 575 936 705 209 191 743 510 513 628 559 658 528 395 525\n",
            " 922 136 496 225 895 975 263 908 420 711 800 976 786 235 930 859 618 226\n",
            " 695 460 218 483 490 803 621 453 193 607 677 637 728 724 534 748 291 194\n",
            " 761 875 687 569 228 482 781 554 654 739 885 197 266 228 892 207 883 588]\n"
          ]
        }
      ]
    },
    {
      "cell_type": "markdown",
      "source": [
        "### `Q-8:` You are given an arrays. You have to limit this array's elements between 100 to 200. $arr ∈ [100, 700]$. So replace those values accordingly with the minimum and maximum value. Then sort the array and perform the cumulative sum of that array."
      ],
      "metadata": {
        "id": "0dHN1sdnl0Jy"
      }
    },
    {
      "cell_type": "code",
      "source": [
        "# code here\n",
        "arr = np.random.randint(100,701,size=100)\n",
        "print(arr)\n",
        "arr = np.clip(arr,100,200)\n",
        "print()\n",
        "print(arr)\n",
        "arr = np.sort(arr)\n",
        "print()\n",
        "print(arr)\n",
        "arr = np.cumsum(arr)\n",
        "print()\n",
        "print(arr)"
      ],
      "metadata": {
        "id": "a3YF_E-Hlza7",
        "outputId": "dbe3fb4f-6a1c-4cd2-83aa-9ae47ee008c4",
        "colab": {
          "base_uri": "https://localhost:8080/"
        }
      },
      "execution_count": 27,
      "outputs": [
        {
          "output_type": "stream",
          "name": "stdout",
          "text": [
            "[252 689 151 509 316 288 665 148 290 510 620 263 455 471 334 471 598 400\n",
            " 301 529 362 508 272 663 569 299 464 556 392 189 513 547 116 142 320 193\n",
            " 698 537 464 224 326 263 312 364 253 588 157 468 476 279 403 670 379 643\n",
            " 371 508 312 250 176 504 301 407 655 640 286 278 316 534 327 348 243 665\n",
            " 447 391 171 494 207 276 469 674 502 276 334 142 150 227 321 585 245 568\n",
            " 352 625 382 279 557 327 690 522 372 107]\n",
            "\n",
            "[200 200 151 200 200 200 200 148 200 200 200 200 200 200 200 200 200 200\n",
            " 200 200 200 200 200 200 200 200 200 200 200 189 200 200 116 142 200 193\n",
            " 200 200 200 200 200 200 200 200 200 200 157 200 200 200 200 200 200 200\n",
            " 200 200 200 200 176 200 200 200 200 200 200 200 200 200 200 200 200 200\n",
            " 200 200 171 200 200 200 200 200 200 200 200 142 150 200 200 200 200 200\n",
            " 200 200 200 200 200 200 200 200 200 107]\n",
            "\n",
            "[107 116 142 142 148 150 151 157 171 176 189 193 200 200 200 200 200 200\n",
            " 200 200 200 200 200 200 200 200 200 200 200 200 200 200 200 200 200 200\n",
            " 200 200 200 200 200 200 200 200 200 200 200 200 200 200 200 200 200 200\n",
            " 200 200 200 200 200 200 200 200 200 200 200 200 200 200 200 200 200 200\n",
            " 200 200 200 200 200 200 200 200 200 200 200 200 200 200 200 200 200 200\n",
            " 200 200 200 200 200 200 200 200 200 200]\n",
            "\n",
            "[  107   223   365   507   655   805   956  1113  1284  1460  1649  1842\n",
            "  2042  2242  2442  2642  2842  3042  3242  3442  3642  3842  4042  4242\n",
            "  4442  4642  4842  5042  5242  5442  5642  5842  6042  6242  6442  6642\n",
            "  6842  7042  7242  7442  7642  7842  8042  8242  8442  8642  8842  9042\n",
            "  9242  9442  9642  9842 10042 10242 10442 10642 10842 11042 11242 11442\n",
            " 11642 11842 12042 12242 12442 12642 12842 13042 13242 13442 13642 13842\n",
            " 14042 14242 14442 14642 14842 15042 15242 15442 15642 15842 16042 16242\n",
            " 16442 16642 16842 17042 17242 17442 17642 17842 18042 18242 18442 18642\n",
            " 18842 19042 19242 19442]\n"
          ]
        }
      ]
    },
    {
      "cell_type": "markdown",
      "source": [
        "### `Q-9:` You are given a array ($arr ∈ [0, 1]$). First you have round off the elements upto 3 decimal places and compare that\n",
        "- 0th percentile == minimum value of the array\n",
        "- 100th percentile == maximum value of the array\n",
        "- also find the difference betwen 51th percenile and 50th percentile values"
      ],
      "metadata": {
        "id": "cXj90Susl4-I"
      }
    },
    {
      "cell_type": "code",
      "source": [
        "# code here\n",
        "np.random.seed(0)\n",
        "arr = np.random.rand(1000)\n",
        "\n",
        "arr_rounded = np.round(arr,3)\n",
        "percentile_0 = np.percentile(arr_rounded, 0)\n",
        "min_val = arr_rounded.min()\n",
        "\n",
        "percentile_100 = np.percentile(arr_rounded, 100)\n",
        "max_val = arr_rounded.max()\n",
        "\n",
        "\n",
        "percentile_50 = np.percentile(arr_rounded, 50)\n",
        "percentile_51 = np.percentile(arr_rounded, 51)\n",
        "difference = percentile_51 - percentile_50\n",
        "\n",
        "\n",
        "print(f\"0th percentile: {percentile_0}, Minimum: {min_val}\")\n",
        "print(f\"100th percentile: {percentile_100}, Maximum: {max_val}\")\n",
        "print(f\"Difference between 51st and 50th percentile: {difference}\")"
      ],
      "metadata": {
        "id": "SgBEHodgl7Lo",
        "outputId": "c49e2896-0b93-4053-9056-b8806ef090ee",
        "colab": {
          "base_uri": "https://localhost:8080/"
        }
      },
      "execution_count": 28,
      "outputs": [
        {
          "output_type": "stream",
          "name": "stdout",
          "text": [
            "0th percentile: 0.001, Minimum: 0.001\n",
            "100th percentile: 1.0, Maximum: 1.0\n",
            "Difference between 51st and 50th percentile: 0.009480000000000044\n"
          ]
        }
      ]
    },
    {
      "cell_type": "code",
      "source": [],
      "metadata": {
        "id": "5W38YBizoRlY"
      },
      "execution_count": null,
      "outputs": []
    }
  ]
}