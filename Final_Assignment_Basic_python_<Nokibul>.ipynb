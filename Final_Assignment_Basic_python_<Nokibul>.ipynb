{
  "nbformat": 4,
  "nbformat_minor": 0,
  "metadata": {
    "colab": {
      "provenance": [],
      "authorship_tag": "ABX9TyNj1fixf3L5o/lFwVQP6dIm",
      "include_colab_link": true
    },
    "kernelspec": {
      "name": "python3",
      "display_name": "Python 3"
    },
    "language_info": {
      "name": "python"
    }
  },
  "cells": [
    {
      "cell_type": "markdown",
      "metadata": {
        "id": "view-in-github",
        "colab_type": "text"
      },
      "source": [
        "<a href=\"https://colab.research.google.com/github/Nokibulofficial18/NoSafenet-Python-for-AI-and-ML-/blob/main/Final_Assignment_Basic_python_%3CNokibul%3E.ipynb\" target=\"_parent\"><img src=\"https://colab.research.google.com/assets/colab-badge.svg\" alt=\"Open In Colab\"/></a>"
      ]
    },
    {
      "cell_type": "markdown",
      "source": [
        "**Basic Questions**"
      ],
      "metadata": {
        "id": "FMClclzVUFQX"
      }
    },
    {
      "cell_type": "code",
      "execution_count": null,
      "metadata": {
        "colab": {
          "base_uri": "https://localhost:8080/"
        },
        "id": "JePCFE_iTvl7",
        "outputId": "33e00132-7ba7-419e-a4f5-27daa6db1f68"
      },
      "outputs": [
        {
          "output_type": "stream",
          "name": "stdout",
          "text": [
            "Before Swapping: \n",
            "A:5 and B:10\n",
            "After Swapping: \n",
            "A:10 and B:5\n"
          ]
        }
      ],
      "source": [
        "a = 5\n",
        "b = 10\n",
        "print(\"Before Swapping: \")\n",
        "print(f\"A:{a} and B:{b}\")\n",
        "a, b= b, a\n",
        "print(\"After Swapping: \")\n",
        "print(f\"A:{a} and B:{b}\")"
      ]
    },
    {
      "cell_type": "code",
      "source": [
        "a = int(input(\"Enter the first number: \"))\n",
        "b = int(input(\"Enter the second number: \"))\n",
        "sum = a+b\n",
        "print(f\"Sum of {a} and {b} is {sum}\")"
      ],
      "metadata": {
        "colab": {
          "base_uri": "https://localhost:8080/"
        },
        "id": "bNoWhQyiUfXU",
        "outputId": "5d18760a-03ca-4738-bef9-47cc2edcedfb"
      },
      "execution_count": null,
      "outputs": [
        {
          "output_type": "stream",
          "name": "stdout",
          "text": [
            "Enter the first number: 45\n",
            "Enter the second number: 65\n",
            "Sum of 45 and 65 is 110\n"
          ]
        }
      ]
    },
    {
      "cell_type": "code",
      "source": [
        "a = int(input(\"Enter the desired number: \"))\n",
        "square_a = a**2\n",
        "cube_a = a**3\n",
        "print(f\"Square of {a} is: {square_a}\")\n",
        "print(f\"Cube of {a} is: {cube_a}\")\n"
      ],
      "metadata": {
        "colab": {
          "base_uri": "https://localhost:8080/"
        },
        "id": "Y4l1uvelVUGR",
        "outputId": "cb02f203-9539-42f0-a605-29a3c0517c0c"
      },
      "execution_count": null,
      "outputs": [
        {
          "output_type": "stream",
          "name": "stdout",
          "text": [
            "Enter the desired number: 5\n",
            "Square of 5 is: 25\n",
            "Cube of 5 is: 125\n"
          ]
        }
      ]
    },
    {
      "cell_type": "code",
      "source": [
        "a = int(input(\"Enter the desired number: \"))\n",
        "if a % 2 == 0:\n",
        "  print(f\"{a} is even\")\n",
        "else:\n",
        "  print(f\"{a} is odd\")"
      ],
      "metadata": {
        "colab": {
          "base_uri": "https://localhost:8080/"
        },
        "id": "H3VS_RPFVsNX",
        "outputId": "5a97e803-b88a-4d5b-ad3a-ebc604825368"
      },
      "execution_count": null,
      "outputs": [
        {
          "output_type": "stream",
          "name": "stdout",
          "text": [
            "Enter the desired number: 44\n",
            "44 is even\n"
          ]
        }
      ]
    },
    {
      "cell_type": "code",
      "source": [
        "input_str = input(\"Enter the string: \")\n",
        "n = len(input_str)\n",
        "print(f\"Length of {input_str} is {n}\")"
      ],
      "metadata": {
        "colab": {
          "base_uri": "https://localhost:8080/"
        },
        "id": "s5etyAIuV7Zc",
        "outputId": "19b69b00-5b0c-4ffd-e90a-cdcd8e5fd83b"
      },
      "execution_count": null,
      "outputs": [
        {
          "output_type": "stream",
          "name": "stdout",
          "text": [
            "Enter the string: Nokibul\n",
            "Length of Nokibul is 7\n"
          ]
        }
      ]
    },
    {
      "cell_type": "code",
      "source": [
        "input_str = input(\"Enter the string: \")\n",
        "upper_str = input_str.upper()\n",
        "lower_str = input_str.lower()\n",
        "print(input_str)\n",
        "print(upper_str)\n",
        "print(lower_str)"
      ],
      "metadata": {
        "colab": {
          "base_uri": "https://localhost:8080/"
        },
        "id": "ZBVzcSxUWKMf",
        "outputId": "b64c7191-6be6-4730-ed05-93813367c2c2"
      },
      "execution_count": null,
      "outputs": [
        {
          "output_type": "stream",
          "name": "stdout",
          "text": [
            "Enter the string: nOkIbUl\n",
            "nOkIbUl\n",
            "NOKIBUL\n",
            "nokibul\n"
          ]
        }
      ]
    },
    {
      "cell_type": "code",
      "source": [
        "a = int(input(\"Enter the desired number: \"))\n",
        "if a > 0:\n",
        "  print(f\"{a} is Positive\")\n",
        "elif a<0:\n",
        "  print(f\"{a} is negative\")\n",
        "else:\n",
        "  print(f\"{a} is zero\")\n"
      ],
      "metadata": {
        "colab": {
          "base_uri": "https://localhost:8080/"
        },
        "id": "RiQLXC6nWcFc",
        "outputId": "6dd148ce-4f39-468e-8bee-7aadc24890eb"
      },
      "execution_count": null,
      "outputs": [
        {
          "output_type": "stream",
          "name": "stdout",
          "text": [
            "Enter the desired number: -89\n",
            "-89 is negative\n"
          ]
        }
      ]
    },
    {
      "cell_type": "code",
      "source": [
        "for i in range(1,11):\n",
        "  print(i,end=\" \")"
      ],
      "metadata": {
        "colab": {
          "base_uri": "https://localhost:8080/"
        },
        "id": "tGjGdGK0XTAe",
        "outputId": "5a9ae03a-db05-4aa6-c27f-8ec4ee3b758d"
      },
      "execution_count": null,
      "outputs": [
        {
          "output_type": "stream",
          "name": "stdout",
          "text": [
            "1 2 3 4 5 6 7 8 9 10 "
          ]
        }
      ]
    },
    {
      "cell_type": "code",
      "source": [
        "sum = 0\n",
        "for i in range(1,101):\n",
        "  sum += i\n",
        "\n",
        "print(f\"Sum of the all numbers from 0 to 100 is: {sum}\")"
      ],
      "metadata": {
        "colab": {
          "base_uri": "https://localhost:8080/"
        },
        "id": "EVdZdQORXbGA",
        "outputId": "964736e7-e1f8-45f8-efca-3cb61d885028"
      },
      "execution_count": null,
      "outputs": [
        {
          "output_type": "stream",
          "name": "stdout",
          "text": [
            "Sum of the all numbers from 0 to 100 is: 5050\n"
          ]
        }
      ]
    },
    {
      "cell_type": "code",
      "source": [
        "for i in range(1,51):\n",
        "  if i % 2== 0:\n",
        "    print(i,end=\" \")"
      ],
      "metadata": {
        "colab": {
          "base_uri": "https://localhost:8080/"
        },
        "id": "tcBwxyt2Xnf5",
        "outputId": "9b975afd-23c4-43d5-a948-a27e5718b1b7"
      },
      "execution_count": null,
      "outputs": [
        {
          "output_type": "stream",
          "name": "stdout",
          "text": [
            "2 4 6 8 10 12 14 16 18 20 22 24 26 28 30 32 34 36 38 40 42 44 46 48 50 "
          ]
        }
      ]
    },
    {
      "cell_type": "code",
      "source": [
        "input_str = input(\"Enter the string: \")\n",
        "reverse_string = input_str[::-1]\n",
        "print(f\"Reverse of {input_str} is {reverse_string}\")"
      ],
      "metadata": {
        "colab": {
          "base_uri": "https://localhost:8080/"
        },
        "id": "iDIIFPTBXuNG",
        "outputId": "20e86abb-9f50-4ddf-eab5-f67f02ab2a7b"
      },
      "execution_count": null,
      "outputs": [
        {
          "output_type": "stream",
          "name": "stdout",
          "text": [
            "Enter the string: Nokibul\n",
            "Reverse of Nokibul is lubikoN\n"
          ]
        }
      ]
    },
    {
      "cell_type": "code",
      "source": [
        "ch = input(\"Enter the character: \")\n",
        "if ch.lower() == 'a' or ch.lower() == 'e' or ch.lower() == 'i' or ch.lower() == 'o' or ch.lower() == 'u':\n",
        "  print(f\"{ch} is a vowel\")\n",
        "else:\n",
        "  print(f\"{ch} is a consonent\")"
      ],
      "metadata": {
        "colab": {
          "base_uri": "https://localhost:8080/"
        },
        "id": "G4bWZ7wsX9a9",
        "outputId": "4ec7123d-187f-4e52-e024-71a38a511e76"
      },
      "execution_count": null,
      "outputs": [
        {
          "output_type": "stream",
          "name": "stdout",
          "text": [
            "Enter the character: e\n",
            "e is a vowel\n"
          ]
        }
      ]
    },
    {
      "cell_type": "code",
      "source": [
        "my_list = [1,3,56,5,6]\n",
        "maxi = max(my_list)\n",
        "print(f\"{maxi} is the max of {my_list}\")"
      ],
      "metadata": {
        "colab": {
          "base_uri": "https://localhost:8080/"
        },
        "id": "Fd8nZttVYeNB",
        "outputId": "f4e6eb3c-34a8-4626-8e34-1762821350a1"
      },
      "execution_count": null,
      "outputs": [
        {
          "output_type": "stream",
          "name": "stdout",
          "text": [
            "56 is the max of [1, 3, 56, 5, 6]\n"
          ]
        }
      ]
    },
    {
      "cell_type": "code",
      "source": [
        "my_list = [1,3,56,5,6]\n",
        "sum = 0\n",
        "for num in my_list:\n",
        "  sum += i\n",
        "print(sum)"
      ],
      "metadata": {
        "colab": {
          "base_uri": "https://localhost:8080/"
        },
        "id": "V1S_WATnZsg8",
        "outputId": "fd7f30a5-e2a1-4ba4-e855-7133f7f03612"
      },
      "execution_count": null,
      "outputs": [
        {
          "output_type": "stream",
          "name": "stdout",
          "text": [
            "250\n"
          ]
        }
      ]
    },
    {
      "cell_type": "code",
      "source": [
        "my_tuple = (1,3,56,5,6)\n",
        "for num in my_tuple:\n",
        "  print(num,end=\" \")"
      ],
      "metadata": {
        "colab": {
          "base_uri": "https://localhost:8080/"
        },
        "id": "bjOOx_ArZ_Py",
        "outputId": "d8d4168a-74dc-43db-a815-921524ab7b72"
      },
      "execution_count": null,
      "outputs": [
        {
          "output_type": "stream",
          "name": "stdout",
          "text": [
            "1 3 56 5 6 "
          ]
        }
      ]
    },
    {
      "cell_type": "code",
      "source": [
        "my_set = {1,5,6}\n",
        "print(my_set)"
      ],
      "metadata": {
        "colab": {
          "base_uri": "https://localhost:8080/"
        },
        "id": "KcVKbbrsaOO_",
        "outputId": "eafd15e5-bea9-48ba-cdf6-00e5be8c3d63"
      },
      "execution_count": null,
      "outputs": [
        {
          "output_type": "stream",
          "name": "stdout",
          "text": [
            "{1, 5, 6}\n"
          ]
        }
      ]
    },
    {
      "cell_type": "code",
      "source": [
        "input_str = input(\"Enter a string: \")\n",
        "frequency_arr = {}\n",
        "\n",
        "for char in input_str:\n",
        "    if char in frequency_arr:\n",
        "        frequency_arr[char] += 1\n",
        "    else:\n",
        "        frequency_arr[char] = 1\n",
        "\n",
        "print(\"Character Frequencies:\")\n",
        "for char in sorted(frequency_arr):\n",
        "    print(f\"'{char}': {frequency_arr[char]}\")\n"
      ],
      "metadata": {
        "colab": {
          "base_uri": "https://localhost:8080/"
        },
        "id": "ecVtWgv2aV8i",
        "outputId": "f853781a-75d7-4abb-bc28-2817b59eb81e"
      },
      "execution_count": null,
      "outputs": [
        {
          "output_type": "stream",
          "name": "stdout",
          "text": [
            "Enter a string: dfafaffksdhfdhf hfiodhfoidahfas\n",
            "Character Frequencies:\n",
            "' ': 1\n",
            "'a': 4\n",
            "'d': 5\n",
            "'f': 9\n",
            "'h': 5\n",
            "'i': 2\n",
            "'k': 1\n",
            "'o': 2\n",
            "'s': 2\n"
          ]
        }
      ]
    },
    {
      "cell_type": "code",
      "source": [
        "def factorial(n):\n",
        "  prod = 1\n",
        "  for i in range(1,n+1):\n",
        "    prod *= i\n",
        "  return prod\n",
        "\n",
        "a = int(input(\"Enter the desired number: \"))\n",
        "res = factorial(a)\n",
        "print(f\"Factorial of {a} is {res}\")"
      ],
      "metadata": {
        "colab": {
          "base_uri": "https://localhost:8080/"
        },
        "id": "mLv9bCKlaz1l",
        "outputId": "d5d9a277-e788-4feb-d0f9-a739c49a9d37"
      },
      "execution_count": null,
      "outputs": [
        {
          "output_type": "stream",
          "name": "stdout",
          "text": [
            "Enter the desired number: 5\n",
            "Factorial of 5 is 120\n"
          ]
        }
      ]
    },
    {
      "cell_type": "code",
      "source": [
        "my_dict = {\n",
        "    \"Masud\":45,\n",
        "    \"kamal\":68,\n",
        "    \"Rahim\":87\n",
        "}\n",
        "print(my_dict)"
      ],
      "metadata": {
        "colab": {
          "base_uri": "https://localhost:8080/"
        },
        "id": "cz8YNTi4bYTI",
        "outputId": "89928b66-dea1-4176-fee5-2166a1cd845f"
      },
      "execution_count": null,
      "outputs": [
        {
          "output_type": "stream",
          "name": "stdout",
          "text": [
            "{'Masud': 45, 'kamal': 68, 'Rahim': 87}\n"
          ]
        }
      ]
    },
    {
      "cell_type": "code",
      "source": [
        "my_dict = {\n",
        "    \"Masud\":45,\n",
        "    \"kamal\":68,\n",
        "    \"Rahim\":87\n",
        "}\n",
        "kamal_mark = my_dict[\"kamal\"]\n",
        "\n",
        "print(\"Mark of kamal is: \",kamal_mark)"
      ],
      "metadata": {
        "colab": {
          "base_uri": "https://localhost:8080/"
        },
        "id": "02Lcsie1bnvu",
        "outputId": "22473285-3447-452f-d62f-413c5e5925a8"
      },
      "execution_count": null,
      "outputs": [
        {
          "output_type": "stream",
          "name": "stdout",
          "text": [
            "Mark of kamal is:  68\n"
          ]
        }
      ]
    },
    {
      "cell_type": "markdown",
      "source": [
        "**Medium**"
      ],
      "metadata": {
        "id": "HbyZc1DobyyX"
      }
    },
    {
      "cell_type": "code",
      "source": [
        "my_list = [1,3,4,2,4,6,7]\n",
        "maxi = max(my_list)\n",
        "sec_max = -1\n",
        "for num in my_list:\n",
        "  if sec_max<num and num != maxi:\n",
        "    sec_max = num\n",
        "\n",
        "print(f\"{sec_max} is the second maximum in {my_list}\")"
      ],
      "metadata": {
        "id": "wXk6DxGObxc9",
        "colab": {
          "base_uri": "https://localhost:8080/"
        },
        "outputId": "f5b25858-ef99-4927-e5bf-a1c6a90f0c7d"
      },
      "execution_count": null,
      "outputs": [
        {
          "output_type": "stream",
          "name": "stdout",
          "text": [
            "6 is the second maximum in [1, 3, 4, 2, 4, 6, 7]\n"
          ]
        }
      ]
    },
    {
      "cell_type": "code",
      "source": [
        "my_list = [1,3,4,2,4,6,7,4,3,5,2,4,5,6,2,1]\n",
        "unq_list = list(set(my_list))\n",
        "print(unq_list)"
      ],
      "metadata": {
        "colab": {
          "base_uri": "https://localhost:8080/"
        },
        "id": "3Gsdjj48x-6I",
        "outputId": "271a71d9-ecc4-4423-ee67-bd69385ee9ae"
      },
      "execution_count": null,
      "outputs": [
        {
          "output_type": "stream",
          "name": "stdout",
          "text": [
            "[1, 2, 3, 4, 5, 6, 7]\n"
          ]
        }
      ]
    },
    {
      "cell_type": "code",
      "source": [
        "n = int(input(\"Enter your desired number: \"))\n",
        "print(f\"Multiplication table of {n}: \")\n",
        "for i in range(1,11):\n",
        "  print(f\"{n} x {i} = {n*i}\")\n"
      ],
      "metadata": {
        "colab": {
          "base_uri": "https://localhost:8080/"
        },
        "id": "uIqSTFTUyfpR",
        "outputId": "51b2beb3-da0e-446b-d2d1-11e58ef6a194"
      },
      "execution_count": null,
      "outputs": [
        {
          "output_type": "stream",
          "name": "stdout",
          "text": [
            "Enter your desired number: 5\n",
            "Multiplication table of 5: \n",
            "5 x 1 = 5\n",
            "5 x 2 = 10\n",
            "5 x 3 = 15\n",
            "5 x 4 = 20\n",
            "5 x 5 = 25\n",
            "5 x 6 = 30\n",
            "5 x 7 = 35\n",
            "5 x 8 = 40\n",
            "5 x 9 = 45\n",
            "5 x 10 = 50\n"
          ]
        }
      ]
    },
    {
      "cell_type": "code",
      "source": [
        "def check_palindrome(s):\n",
        "  n = len(s)\n",
        "  i = 0\n",
        "  j = n-1\n",
        "  while(i<=j):\n",
        "    if s[i] != s[j]:\n",
        "      return False\n",
        "\n",
        "    i += 1\n",
        "    j -= 1\n",
        "\n",
        "  return True\n",
        "\n",
        "\n",
        "s = input(\"Enter The string: \")\n",
        "if check_palindrome(s):\n",
        "  print(f\"{s} is a palindrome.\")\n",
        "else:\n",
        "  print(f\"{s} is not a palindrome\")"
      ],
      "metadata": {
        "colab": {
          "base_uri": "https://localhost:8080/"
        },
        "id": "WuiWiz_7y6Rt",
        "outputId": "3dd088e9-5883-4960-d1bd-e87d02cfe93e"
      },
      "execution_count": null,
      "outputs": [
        {
          "output_type": "stream",
          "name": "stdout",
          "text": [
            "Enter The string: ono\n",
            "ono is a palindrome.\n"
          ]
        }
      ]
    },
    {
      "cell_type": "code",
      "source": [
        "s = input(\"Enter the string: \")\n",
        "vowel_cnt=0\n",
        "conso_cnt=0\n",
        "for ch in s:\n",
        "  if ch.lower() == 'a' or ch.lower() == 'e' or ch.lower() == 'i' or ch.lower() == 'o' or ch.lower() == 'u':\n",
        "    vowel_cnt += 1\n",
        "  else:\n",
        "    conso_cnt += 1\n",
        "\n",
        "print(f\"{s} have {vowel_cnt} vowels and {conso_cnt} consonents.\")"
      ],
      "metadata": {
        "colab": {
          "base_uri": "https://localhost:8080/"
        },
        "id": "dGVBsQfMzdCL",
        "outputId": "cb5f352e-0bf6-49cf-ec30-776c2a47bacd"
      },
      "execution_count": null,
      "outputs": [
        {
          "output_type": "stream",
          "name": "stdout",
          "text": [
            "Enter the string: ajdfjksajfksdjfskdf\n",
            "ajdfjksajfksdjfskdf have 2 vowels and 17 consonents.\n"
          ]
        }
      ]
    },
    {
      "cell_type": "code",
      "source": [
        "def even_list_creator(input_list):\n",
        "  even_list = [num for num in input_list if num%2==0]\n",
        "  return even_list\n",
        "\n",
        "my_list = [1,2,4,3,4,3,43,4,5,64,3,532]\n",
        "even_list = even_list_creator(my_list)\n",
        "print(f\"{even_list} is the new list with only even numbers from {my_list}\")"
      ],
      "metadata": {
        "colab": {
          "base_uri": "https://localhost:8080/"
        },
        "id": "I0G3S3R80OsU",
        "outputId": "37cbcc6c-56ee-4985-880e-6f6d9dd04549"
      },
      "execution_count": null,
      "outputs": [
        {
          "output_type": "stream",
          "name": "stdout",
          "text": [
            "[2, 4, 4, 4, 64, 532] is the new list with only even numbers from [1, 2, 4, 3, 4, 3, 43, 4, 5, 64, 3, 532]\n"
          ]
        }
      ]
    },
    {
      "cell_type": "code",
      "source": [
        "def sum_of_squares(input_list):\n",
        "  sum = 0\n",
        "  for num in input_list:\n",
        "    sum += (num*num)\n",
        "\n",
        "  return sum\n",
        "\n",
        "my_list = [1,2,4,3,4,3,43,4,5,64,3,532]\n",
        "res = sum_of_squares(my_list)\n",
        "\n",
        "print(f\"{res} is the sum of squares of all numbers of {my_list}\")"
      ],
      "metadata": {
        "colab": {
          "base_uri": "https://localhost:8080/"
        },
        "id": "mMwK6e1U8ClS",
        "outputId": "78522c10-c133-417c-8a24-b1ceb54d36b3"
      },
      "execution_count": null,
      "outputs": [
        {
          "output_type": "stream",
          "name": "stdout",
          "text": [
            "289074 is the sum of squares of all numbers of [1, 2, 4, 3, 4, 3, 43, 4, 5, 64, 3, 532]\n"
          ]
        }
      ]
    },
    {
      "cell_type": "code",
      "source": [
        "def check_prime(n):\n",
        "  for i in range(2,n):\n",
        "    if n % i ==0:\n",
        "      return False\n",
        "\n",
        "  return True\n",
        "\n",
        "n = int(input(\"Enter the desired number: \"))\n",
        "if check_prime(n):\n",
        "  print(f\"{n} is a prime number.\")\n",
        "else :\n",
        "  print(f\"{n} is not a prime number.\")"
      ],
      "metadata": {
        "colab": {
          "base_uri": "https://localhost:8080/"
        },
        "id": "HLPkWsxZ1KIr",
        "outputId": "a7fd8424-142d-49f1-ade0-eea5419840de"
      },
      "execution_count": null,
      "outputs": [
        {
          "output_type": "stream",
          "name": "stdout",
          "text": [
            "Enter the desired number: 47\n",
            "47 is a prime number.\n"
          ]
        }
      ]
    },
    {
      "cell_type": "code",
      "source": [
        "first_list = [1,2,4,5,9,6,5,20]\n",
        "second_list = [1,5,4,3,6,9,74,87]\n",
        "common_list = list(set(first_list)&set(second_list))\n",
        "print(f\"{common_list} is the list of all the elements from the {first_list} and {second_list}\")"
      ],
      "metadata": {
        "colab": {
          "base_uri": "https://localhost:8080/"
        },
        "id": "fvW8Rzbz3y8l",
        "outputId": "8a8aa0da-c9f9-47e4-cafd-a5320b402ff5"
      },
      "execution_count": null,
      "outputs": [
        {
          "output_type": "stream",
          "name": "stdout",
          "text": [
            "[1, 4, 5, 6, 9] is the list of all the elements from the [1, 2, 4, 5, 9, 6, 5, 20] and [1, 5, 4, 3, 6, 9, 74, 87]\n"
          ]
        }
      ]
    },
    {
      "cell_type": "code",
      "source": [
        "def fibo_generator(n):\n",
        "  first = 0\n",
        "  second = 1\n",
        "  fibo_list = []\n",
        "  for i in range(n):\n",
        "    fibo_list.append(first)\n",
        "    temp = first\n",
        "    first = second\n",
        "    second = temp + second\n",
        "  return fibo_list\n",
        "\n",
        "\n",
        "n = int(input(\"Enter the term upto which you want to generate fibonacchi series: \"))\n",
        "fibo_list = fibo_generator(n)\n",
        "print(f\"Fibonacchi series upto {n} is: {fibo_list}\")"
      ],
      "metadata": {
        "colab": {
          "base_uri": "https://localhost:8080/"
        },
        "id": "IE-JCQpN-iaV",
        "outputId": "dffd8f27-6a92-4e4e-cacd-16bd2c12512a"
      },
      "execution_count": null,
      "outputs": [
        {
          "output_type": "stream",
          "name": "stdout",
          "text": [
            "Enter the term upto which you want to generate fibonacchi series: 7\n",
            "Fibonacchi series upto 7 is: [0, 1, 1, 2, 3, 5, 8]\n"
          ]
        }
      ]
    },
    {
      "cell_type": "code",
      "source": [
        "def return_max_from_three(a,b,c):\n",
        "  return max(list((a,b,c)))\n",
        "\n",
        "a = int(input(\"Enter the first number: \"))\n",
        "b = int(input(\"Enter the second number: \"))\n",
        "c = int(input(\"Enter the third number: \"))\n",
        "\n",
        "maxi = return_max_from_three(a,b,c)\n",
        "print(f\"{maxi} is the maximum of {a},{b},{c}\")"
      ],
      "metadata": {
        "colab": {
          "base_uri": "https://localhost:8080/"
        },
        "id": "_4Xt1xhM_xGs",
        "outputId": "9adb55e0-0c8a-4824-9262-9d46d992bbc6"
      },
      "execution_count": null,
      "outputs": [
        {
          "output_type": "stream",
          "name": "stdout",
          "text": [
            "Enter the first number: 45\n",
            "Enter the second number: 87\n",
            "Enter the third number: 12\n",
            "87 is the maximum of 45,87,12\n"
          ]
        }
      ]
    },
    {
      "cell_type": "code",
      "source": [
        "s = input(\"Enter the string with punctuations: \")\n",
        "result = \"\"\n",
        "for char in s:\n",
        "  if char.isalnum() or char.isspace():\n",
        "    result += char\n",
        "\n",
        "print(f\"{result} is the string after removing all the punctuation from {s}\")"
      ],
      "metadata": {
        "colab": {
          "base_uri": "https://localhost:8080/"
        },
        "id": "kYwpnLz1BGDt",
        "outputId": "3b2299dc-99c7-4649-b72c-95b809779f4d"
      },
      "execution_count": null,
      "outputs": [
        {
          "output_type": "stream",
          "name": "stdout",
          "text": [
            "Enter the string with punctuations: iamsdff!DFNSFSAKN&SDSJDFNJSJF) SAFDFSD\n",
            "iamsdffDFNSFSAKNSDSJDFNJSJF SAFDFSD is the string after removing all the punctuation from iamsdff!DFNSFSAKN&SDSJDFNJSJF) SAFDFSD\n"
          ]
        }
      ]
    },
    {
      "cell_type": "code",
      "source": [
        "n = int(input(\"Enter the number: \"))\n",
        "sum = 0\n",
        "temp = n\n",
        "while temp>0:\n",
        "  digit = temp % 10\n",
        "  sum += digit\n",
        "  temp //= 10\n",
        "\n",
        "print(f\"{sum} is the sum of digits of {n}\")"
      ],
      "metadata": {
        "colab": {
          "base_uri": "https://localhost:8080/"
        },
        "id": "5n2XlUowE2mL",
        "outputId": "782ef076-7730-4137-9356-fde49495241e"
      },
      "execution_count": null,
      "outputs": [
        {
          "output_type": "stream",
          "name": "stdout",
          "text": [
            "Enter the number: 45\n",
            "9 is the sum of digits of 45\n"
          ]
        }
      ]
    },
    {
      "cell_type": "code",
      "source": [
        "def is_prime(n):\n",
        "  if n == 1:\n",
        "    return False\n",
        "  for i in range(2,n):\n",
        "    if n % i ==0:\n",
        "      return False\n",
        "  return True\n",
        "prime_list = []\n",
        "for i in range(1,101):\n",
        "  if is_prime(i):\n",
        "    prime_list.append(i)\n",
        "\n",
        "print(f\"The prime numbers from 1 to 100 is: {prime_list}\")"
      ],
      "metadata": {
        "colab": {
          "base_uri": "https://localhost:8080/"
        },
        "id": "7O6qe-9PFxbm",
        "outputId": "ef13ea15-7b75-4fc7-bcac-5b1ffb9cd3d3"
      },
      "execution_count": null,
      "outputs": [
        {
          "output_type": "stream",
          "name": "stdout",
          "text": [
            "The prime numbers from 1 to 100 is: [2, 3, 5, 7, 11, 13, 17, 19, 23, 29, 31, 37, 41, 43, 47, 53, 59, 61, 67, 71, 73, 79, 83, 89, 97]\n"
          ]
        }
      ]
    },
    {
      "cell_type": "code",
      "source": [
        "year = int(input(\"Enter a year: \"))\n",
        "if year % 4 ==0 and (year % 100 !=0 or year % 400 ==0):\n",
        "  print(f\"{year} is leap year.\")\n",
        "else:\n",
        "  print(f\"{year} is not leap year\")"
      ],
      "metadata": {
        "colab": {
          "base_uri": "https://localhost:8080/"
        },
        "id": "D-1CuJNmGuou",
        "outputId": "a8454dee-7fe7-47e7-d687-7190fb902d49"
      },
      "execution_count": null,
      "outputs": [
        {
          "output_type": "stream",
          "name": "stdout",
          "text": [
            "Enter a year: 2022\n",
            "2022 is not leap year\n"
          ]
        }
      ]
    },
    {
      "cell_type": "code",
      "source": [
        "def remove_non_alpha(s):\n",
        "  result = \"\"\n",
        "  for char in s:\n",
        "    if char.isalpha():\n",
        "      result += char\n",
        "\n",
        "  return result\n",
        "\n",
        "s = input(\"Enter the string: \")\n",
        "mod_s = remove_non_alpha(s)\n",
        "print(f\"{mod_s} is the string after removing all non-alphabetic character from {s}\")"
      ],
      "metadata": {
        "colab": {
          "base_uri": "https://localhost:8080/"
        },
        "id": "xfGGsi1LiCcA",
        "outputId": "bf753015-7243-42f7-9ba5-e1a54d8416cb"
      },
      "execution_count": null,
      "outputs": [
        {
          "output_type": "stream",
          "name": "stdout",
          "text": [
            "Enter the string: 1sf1sf1sdf1sdf1sdfSdf1sf1sf\n",
            "sfsfsdfsdfsdfSdfsfsf is the string after removing all non-alphabetic character from 1sf1sf1sdf1sdf1sdfSdf1sf1sf\n"
          ]
        }
      ]
    },
    {
      "cell_type": "code",
      "source": [
        "def word_count_dictionary(s):\n",
        "  my_dict = {}\n",
        "  words_list = s.split()\n",
        "  for word in words_list:\n",
        "    if word  in my_dict.keys():\n",
        "      my_dict[word] += 1\n",
        "    else:\n",
        "      my_dict[word] = 1\n",
        "\n",
        "  return my_dict\n",
        "\n",
        "\n",
        "s = input(\"Enetr a sentence: \")\n",
        "count_dict = word_count_dictionary(s)\n",
        "print(f\"{count_dict} is the dictionary with the count of each word in {s}\")"
      ],
      "metadata": {
        "colab": {
          "base_uri": "https://localhost:8080/"
        },
        "id": "yfy_JAbekBaF",
        "outputId": "4f5f594a-5b85-4ba3-f813-73fb689ae3d5"
      },
      "execution_count": null,
      "outputs": [
        {
          "output_type": "stream",
          "name": "stdout",
          "text": [
            "Enetr a sentence: i am a boy . boy who is in love with \n",
            "{'i': 1, 'am': 1, 'a': 1, 'boy': 2, '.': 1, 'who': 1, 'is': 1, 'in': 1, 'love': 1, 'with': 1} is the dictionary with the count of each word in i am a boy . boy who is in love with \n"
          ]
        }
      ]
    },
    {
      "cell_type": "code",
      "source": [
        "def multi_number_avg(*args):\n",
        "    total = 0\n",
        "    for num in args:\n",
        "        total += num\n",
        "    return total / len(args)\n",
        "\n",
        "\n",
        "print(multi_number_avg(10, 20, 30))\n"
      ],
      "metadata": {
        "colab": {
          "base_uri": "https://localhost:8080/"
        },
        "id": "ky54WauLlYLa",
        "outputId": "18cb102c-10d3-4179-a58e-ba2f690cb0f7"
      },
      "execution_count": null,
      "outputs": [
        {
          "output_type": "stream",
          "name": "stdout",
          "text": [
            "20.0\n"
          ]
        }
      ]
    },
    {
      "cell_type": "code",
      "source": [],
      "metadata": {
        "id": "7FdcIc7bmHjU"
      },
      "execution_count": null,
      "outputs": []
    }
  ]
}