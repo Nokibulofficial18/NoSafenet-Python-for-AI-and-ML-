{
  "nbformat": 4,
  "nbformat_minor": 0,
  "metadata": {
    "colab": {
      "provenance": [],
      "authorship_tag": "ABX9TyOyebLDylKDY71bDlMCI8CY",
      "include_colab_link": true
    },
    "kernelspec": {
      "name": "python3",
      "display_name": "Python 3"
    },
    "language_info": {
      "name": "python"
    }
  },
  "cells": [
    {
      "cell_type": "markdown",
      "metadata": {
        "id": "view-in-github",
        "colab_type": "text"
      },
      "source": [
        "<a href=\"https://colab.research.google.com/github/Nokibulofficial18/NoSafenet-Python-for-AI-and-ML-/blob/main/assignment_1.ipynb\" target=\"_parent\"><img src=\"https://colab.research.google.com/assets/colab-badge.svg\" alt=\"Open In Colab\"/></a>"
      ]
    },
    {
      "cell_type": "code",
      "execution_count": null,
      "metadata": {
        "colab": {
          "base_uri": "https://localhost:8080/"
        },
        "id": "SV_fnIM1dZPW",
        "outputId": "5e655d12-29b8-472e-e54f-92fd7839ad9d"
      },
      "outputs": [
        {
          "output_type": "stream",
          "name": "stdout",
          "text": [
            "Welcome to Python class!\n"
          ]
        }
      ],
      "source": [
        "print(\"Welcome to Python class!\")"
      ]
    },
    {
      "cell_type": "code",
      "source": [
        "name = \"Nokibul Hasan Mojumder Tasir\"\n",
        "print(name)"
      ],
      "metadata": {
        "colab": {
          "base_uri": "https://localhost:8080/"
        },
        "id": "6wvykFPFdjtd",
        "outputId": "66c925f5-ea43-4c49-d959-b6f2630ed629"
      },
      "execution_count": null,
      "outputs": [
        {
          "output_type": "stream",
          "name": "stdout",
          "text": [
            "Nokibul Hasan Mojumder Tasir\n"
          ]
        }
      ]
    },
    {
      "cell_type": "code",
      "source": [
        "print(type(123))\n",
        "print(type(\"Hello\"))\n",
        "print(type(3.14))\n",
        "print(type(True))"
      ],
      "metadata": {
        "colab": {
          "base_uri": "https://localhost:8080/"
        },
        "id": "IA1SD9padoSV",
        "outputId": "01a93a67-28ed-4009-cf61-a9af38964c19"
      },
      "execution_count": null,
      "outputs": [
        {
          "output_type": "stream",
          "name": "stdout",
          "text": [
            "<class 'int'>\n",
            "<class 'str'>\n",
            "<class 'float'>\n",
            "<class 'bool'>\n"
          ]
        }
      ]
    },
    {
      "cell_type": "code",
      "source": [
        "x = 10\n",
        "y = 20\n",
        "sum = x+y\n",
        "print(\"Sum is \", sum)"
      ],
      "metadata": {
        "colab": {
          "base_uri": "https://localhost:8080/"
        },
        "id": "KMJsPttqd5Eq",
        "outputId": "2f56f78d-8305-4b0c-fe52-bf756dddf9f7"
      },
      "execution_count": null,
      "outputs": [
        {
          "output_type": "stream",
          "name": "stdout",
          "text": [
            "Sum is  30\n"
          ]
        }
      ]
    },
    {
      "cell_type": "code",
      "source": [
        "age = int(input(\"Enter your age: \"))\n",
        "print(\"Your age is \", age)"
      ],
      "metadata": {
        "colab": {
          "base_uri": "https://localhost:8080/"
        },
        "id": "QGZRXWx-eD2V",
        "outputId": "ee90a3a0-e7e2-46e1-b562-95a44fe0f689"
      },
      "execution_count": null,
      "outputs": [
        {
          "output_type": "stream",
          "name": "stdout",
          "text": [
            "Enter your age: 25\n",
            "Your age is  25\n"
          ]
        }
      ]
    },
    {
      "cell_type": "code",
      "source": [
        "x = \"100\"\n",
        "y = int(x)\n",
        "print(type(x))\n",
        "print(type(y))"
      ],
      "metadata": {
        "colab": {
          "base_uri": "https://localhost:8080/"
        },
        "id": "cDApM3k1eWcW",
        "outputId": "fafe9b28-7eac-4f98-bf88-e4a0c882b3e2"
      },
      "execution_count": null,
      "outputs": [
        {
          "output_type": "stream",
          "name": "stdout",
          "text": [
            "<class 'str'>\n",
            "<class 'int'>\n"
          ]
        }
      ]
    },
    {
      "cell_type": "code",
      "source": [
        "age = input(\"Enter your age \")\n",
        "print(type(age))"
      ],
      "metadata": {
        "colab": {
          "base_uri": "https://localhost:8080/"
        },
        "id": "Gqc9bO8MfvQ3",
        "outputId": "1b722b53-81e4-46cc-83de-286cdd707c12"
      },
      "execution_count": null,
      "outputs": [
        {
          "output_type": "stream",
          "name": "stdout",
          "text": [
            "Enter your age 22\n",
            "<class 'str'>\n"
          ]
        }
      ]
    },
    {
      "cell_type": "code",
      "source": [
        "x = 3.1416\n",
        "y = int(x)\n",
        "print(x)\n",
        "print(y)"
      ],
      "metadata": {
        "colab": {
          "base_uri": "https://localhost:8080/"
        },
        "id": "yHppCeIqfXBa",
        "outputId": "b803e2f8-c02a-4dfa-84e9-343c4c1f3c98"
      },
      "execution_count": null,
      "outputs": [
        {
          "output_type": "stream",
          "name": "stdout",
          "text": [
            "3.1416\n",
            "3\n"
          ]
        }
      ]
    },
    {
      "cell_type": "code",
      "source": [
        "subject = \"Python\"\n",
        "print(\"I am learning\",subject)"
      ],
      "metadata": {
        "colab": {
          "base_uri": "https://localhost:8080/"
        },
        "id": "hOZyXyDefkXH",
        "outputId": "3869acc7-7935-434a-d865-33323ea916f5"
      },
      "execution_count": null,
      "outputs": [
        {
          "output_type": "stream",
          "name": "stdout",
          "text": [
            "I am learning Python\n"
          ]
        }
      ]
    },
    {
      "cell_type": "markdown",
      "source": [
        "2cool is not a variable name because a variable name cannot start with a number as there are some rules for declaring the variable name. rather we can use twocool or two_cool"
      ],
      "metadata": {
        "id": "QfA4pEJ4gM4Z"
      }
    },
    {
      "cell_type": "code",
      "source": [
        "two_cool = 5\n",
        "print(two_cool)"
      ],
      "metadata": {
        "colab": {
          "base_uri": "https://localhost:8080/"
        },
        "id": "4EoJTZewgEqz",
        "outputId": "16bd26a7-bfdd-4ace-9ae4-fcb899c920fb"
      },
      "execution_count": null,
      "outputs": [
        {
          "output_type": "stream",
          "name": "stdout",
          "text": [
            "5\n"
          ]
        }
      ]
    },
    {
      "cell_type": "code",
      "source": [
        "x = '25'\n",
        "y = int(x)+5\n",
        "print(\"Result is:\",y)"
      ],
      "metadata": {
        "colab": {
          "base_uri": "https://localhost:8080/"
        },
        "id": "nvhhgLcTgrnK",
        "outputId": "7c3e1e77-1f4c-4547-efe1-a43416a31abf"
      },
      "execution_count": null,
      "outputs": [
        {
          "output_type": "stream",
          "name": "stdout",
          "text": [
            "Result is: 30\n"
          ]
        }
      ]
    },
    {
      "cell_type": "code",
      "source": [
        "name = input(\"Enter Your name:\")\n",
        "age = int(input(\"Enter Your age:\"))\n",
        "print(\"Your name is:\",name)\n",
        "print(\"Your age is:\",age)"
      ],
      "metadata": {
        "colab": {
          "base_uri": "https://localhost:8080/"
        },
        "id": "Dncefap9g4fJ",
        "outputId": "7f741f3a-6001-405e-d0ef-7df6842256c9"
      },
      "execution_count": null,
      "outputs": [
        {
          "output_type": "stream",
          "name": "stdout",
          "text": [
            "Enter Your name:Nokibul Hasan Mojumder Tasir\n",
            "Enter Your age:22\n",
            "Your name is: Nokibul Hasan Mojumder Tasir\n",
            "Your age is: 22\n"
          ]
        }
      ]
    },
    {
      "cell_type": "code",
      "source": [
        "print(type(name))\n",
        "print(type(age))"
      ],
      "metadata": {
        "colab": {
          "base_uri": "https://localhost:8080/"
        },
        "id": "Cc09dg3vhhAh",
        "outputId": "98d402dc-8125-41f0-9637-d30ac56e2cc2"
      },
      "execution_count": null,
      "outputs": [
        {
          "output_type": "stream",
          "name": "stdout",
          "text": [
            "<class 'str'>\n",
            "<class 'int'>\n"
          ]
        }
      ]
    },
    {
      "cell_type": "code",
      "source": [
        "a , b, c = 10,20,30\n",
        "print(a,b,c)"
      ],
      "metadata": {
        "colab": {
          "base_uri": "https://localhost:8080/"
        },
        "id": "fyRa0hMKjoCL",
        "outputId": "e160e1c7-8b3e-44a6-aa52-fed1547b4aa7"
      },
      "execution_count": null,
      "outputs": [
        {
          "output_type": "stream",
          "name": "stdout",
          "text": [
            "10 20 30\n"
          ]
        }
      ]
    },
    {
      "cell_type": "code",
      "source": [
        "\"\"\"\n",
        "my-variable is not a valid python identifier. Because there are some rules for naming a python variable. The rule states that\n",
        "there can't be any \"-\"(dash) in the identifier. rather we can use my_variable cause \"_\" (underscore) can be used in python identifiers.\n",
        "\"\"\""
      ],
      "metadata": {
        "colab": {
          "base_uri": "https://localhost:8080/",
          "height": 53
        },
        "id": "3DTQV_WJj96I",
        "outputId": "255b3be4-cfcd-4485-df1d-43948d5094d0"
      },
      "execution_count": null,
      "outputs": [
        {
          "output_type": "execute_result",
          "data": {
            "text/plain": [
              "'\\nmy-variable is not a valid python identifier. Because there are some rules for naming a python variable. The rule states that \\nthere can\\'t be any \"-\"(dash) in the identifier. rather we can use my_variable cause \"_\" (underscore) can be used in python identifiers.\\n'"
            ],
            "application/vnd.google.colaboratory.intrinsic+json": {
              "type": "string"
            }
          },
          "metadata": {},
          "execution_count": 41
        }
      ]
    },
    {
      "cell_type": "code",
      "source": [
        "print(\"Hello, \\\"Python\\\"!\")"
      ],
      "metadata": {
        "colab": {
          "base_uri": "https://localhost:8080/"
        },
        "id": "sQnAnWM3kvNL",
        "outputId": "a68bfd85-4240-4db3-e057-e2c97011f3f7"
      },
      "execution_count": null,
      "outputs": [
        {
          "output_type": "stream",
          "name": "stdout",
          "text": [
            "Hello, \"Python\"!\n"
          ]
        }
      ]
    },
    {
      "cell_type": "code",
      "source": [
        "height = 5.10\n",
        "print(type(height))"
      ],
      "metadata": {
        "colab": {
          "base_uri": "https://localhost:8080/"
        },
        "id": "rI4W1kB0lANi",
        "outputId": "6f01fd1b-b982-4f58-c311-56ec12011d40"
      },
      "execution_count": null,
      "outputs": [
        {
          "output_type": "stream",
          "name": "stdout",
          "text": [
            "<class 'float'>\n"
          ]
        }
      ]
    },
    {
      "cell_type": "code",
      "source": [
        "a = 5+3j\n",
        "print(type(a))"
      ],
      "metadata": {
        "colab": {
          "base_uri": "https://localhost:8080/"
        },
        "id": "0qkucqBRlJeK",
        "outputId": "20f40264-e104-41ad-9139-04bd49a0e48b"
      },
      "execution_count": null,
      "outputs": [
        {
          "output_type": "stream",
          "name": "stdout",
          "text": [
            "<class 'complex'>\n"
          ]
        }
      ]
    },
    {
      "cell_type": "code",
      "source": [],
      "metadata": {
        "id": "Fg1w6m4MlO-x"
      },
      "execution_count": null,
      "outputs": []
    }
  ]
}